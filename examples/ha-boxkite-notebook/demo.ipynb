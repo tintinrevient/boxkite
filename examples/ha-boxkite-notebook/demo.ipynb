{
 "cells": [
  {
   "cell_type": "markdown",
   "metadata": {},
   "source": [
    "# Boxkite demo\n",
    "\n",
    "This demo shows an end-to-end model training."
   ]
  },
  {
   "cell_type": "markdown",
   "metadata": {
    "collapsed": true
   },
   "source": [
    "## Train a diabetes model\n",
    "\n",
    "First we import our dependencie."
   ]
  },
  {
   "cell_type": "code",
   "execution_count": 34,
   "metadata": {},
   "outputs": [],
   "source": [
    "import os\n",
    "import pickle\n",
    "from sklearn.datasets import load_diabetes\n",
    "from sklearn.linear_model import LinearRegression\n",
    "from sklearn.model_selection import train_test_split\n",
    "from boxkite.monitoring.service import ModelMonitoringService"
   ]
  },
  {
   "cell_type": "markdown",
   "metadata": {},
   "source": [
    "Create the directory to store the model and histogram."
   ]
  },
  {
   "cell_type": "code",
   "execution_count": 35,
   "metadata": {},
   "outputs": [],
   "source": [
    "if not os.path.exists('data'):\n",
    "    os.mkdir('data')\n",
    "    \n",
    "model_file = os.path.join('data', 'model.pkl')\n",
    "histogram_file = os.path.join('data', 'histogram.txt')"
   ]
  },
  {
   "cell_type": "markdown",
   "metadata": {},
   "source": [
    "Load the diabetes dataset and display the description of the dataset, e.g., 10 attributes and 1 target."
   ]
  },
  {
   "cell_type": "code",
   "execution_count": 8,
   "metadata": {},
   "outputs": [
    {
     "name": "stdout",
     "output_type": "stream",
     "text": [
      ".. _diabetes_dataset:\n",
      "\n",
      "Diabetes dataset\n",
      "----------------\n",
      "\n",
      "Ten baseline variables, age, sex, body mass index, average blood\n",
      "pressure, and six blood serum measurements were obtained for each of n =\n",
      "442 diabetes patients, as well as the response of interest, a\n",
      "quantitative measure of disease progression one year after baseline.\n",
      "\n",
      "**Data Set Characteristics:**\n",
      "\n",
      "  :Number of Instances: 442\n",
      "\n",
      "  :Number of Attributes: First 10 columns are numeric predictive values\n",
      "\n",
      "  :Target: Column 11 is a quantitative measure of disease progression one year after baseline\n",
      "\n",
      "  :Attribute Information:\n",
      "      - age     age in years\n",
      "      - sex\n",
      "      - bmi     body mass index\n",
      "      - bp      average blood pressure\n",
      "      - s1      tc, total serum cholesterol\n",
      "      - s2      ldl, low-density lipoproteins\n",
      "      - s3      hdl, high-density lipoproteins\n",
      "      - s4      tch, total cholesterol / HDL\n",
      "      - s5      ltg, possibly log of serum triglycerides level\n",
      "      - s6      glu, blood sugar level\n",
      "\n",
      "Note: Each of these 10 feature variables have been mean centered and scaled by the standard deviation times `n_samples` (i.e. the sum of squares of each column totals 1).\n",
      "\n",
      "Source URL:\n",
      "https://www4.stat.ncsu.edu/~boos/var.select/diabetes.html\n",
      "\n",
      "For more information see:\n",
      "Bradley Efron, Trevor Hastie, Iain Johnstone and Robert Tibshirani (2004) \"Least Angle Regression,\" Annals of Statistics (with discussion), 407-499.\n",
      "(https://web.stanford.edu/~hastie/Papers/LARS/LeastAngle_2002.pdf)\n"
     ]
    }
   ],
   "source": [
    "bunch = load_diabetes()\n",
    "\n",
    "print(bunch.DESCR)"
   ]
  },
  {
   "cell_type": "markdown",
   "metadata": {},
   "source": [
    "Show the training data for the 10 attributes and 1 target respectively."
   ]
  },
  {
   "cell_type": "code",
   "execution_count": 9,
   "metadata": {},
   "outputs": [
    {
     "name": "stdout",
     "output_type": "stream",
     "text": [
      "The first row is [-0.05273755 -0.04464164 -0.00081689 -0.02632783  0.01081462  0.00714113\n",
      "  0.0486401  -0.03949338 -0.03581673  0.01963284]\n",
      "The prediction is 113.0\n"
     ]
    }
   ],
   "source": [
    "x_train, x_test, y_train, y_test = train_test_split(\n",
    "    bunch.data, bunch.target\n",
    ")\n",
    "\n",
    "print(\"The first row is\", x_train[0])\n",
    "print(\"The prediction is\", y_train[0])"
   ]
  },
  {
   "cell_type": "markdown",
   "metadata": {},
   "source": [
    "Train a linear regression model and save it in the local directory."
   ]
  },
  {
   "cell_type": "code",
   "execution_count": 10,
   "metadata": {},
   "outputs": [
    {
     "name": "stdout",
     "output_type": "stream",
     "text": [
      "Score: 0.47\n"
     ]
    }
   ],
   "source": [
    "model = LinearRegression()\n",
    "model.fit(x_train, y_train)\n",
    "\n",
    "print(\"Score: %.2f\" % model.score(x_test, y_test))\n",
    "with open(model_file, \"wb\") as f:\n",
    "    pickle.dump(model, f)"
   ]
  },
  {
   "cell_type": "markdown",
   "metadata": {},
   "source": [
    "Save the baseline histogram in the local directory."
   ]
  },
  {
   "cell_type": "code",
   "execution_count": 11,
   "metadata": {},
   "outputs": [],
   "source": [
    "# features = [(\"age\", [33, 23, 54, ...]), (\"sex\", [0, 1, 0]), ...]\n",
    "features = zip(*[bunch.feature_names, x_train.T])\n",
    "\n",
    "y_pred = model.predict(x_test)\n",
    "inference = list(y_pred)\n",
    "\n",
    "ModelMonitoringService.export_text(\n",
    "    features=features, inference=inference, path=histogram_file,\n",
    ")"
   ]
  },
  {
   "cell_type": "markdown",
   "metadata": {},
   "source": [
    "Verify the model and histogram have been saved in the data directory."
   ]
  },
  {
   "cell_type": "code",
   "execution_count": 27,
   "metadata": {},
   "outputs": [
    {
     "name": "stdout",
     "output_type": "stream",
     "text": [
      "histogram.txt model.pkl\r\n"
     ]
    }
   ],
   "source": [
    "!ls data"
   ]
  },
  {
   "cell_type": "markdown",
   "metadata": {},
   "source": [
    "## Serve a diabetes model only\n",
    "\n",
    "First we import our dependencie."
   ]
  },
  {
   "cell_type": "code",
   "execution_count": 36,
   "metadata": {
    "pycharm": {
     "name": "#%%\n"
    }
   },
   "outputs": [],
   "source": [
    "import pickle\n",
    "from flask import Flask, request\n",
    "from boxkite.monitoring.collector import BaselineMetricCollector\n",
    "from boxkite.monitoring.service import ModelMonitoringService"
   ]
  },
  {
   "cell_type": "markdown",
   "metadata": {},
   "source": [
    "Load the model and histogram from the local directory."
   ]
  },
  {
   "cell_type": "code",
   "execution_count": 37,
   "metadata": {
    "pycharm": {
     "name": "#%%\n"
    }
   },
   "outputs": [
    {
     "name": "stdout",
     "output_type": "stream",
     "text": [
      "Loading model and histogram from local files\n"
     ]
    }
   ],
   "source": [
    "print(\"Loading model and histogram from local files\")\n",
    "\n",
    "with open(model_file, \"rb\") as f:\n",
    "    model = pickle.load(f)\n",
    "\n",
    "monitor = ModelMonitoringService(\n",
    "    baseline_collector=BaselineMetricCollector(path=histogram_file)\n",
    ")"
   ]
  },
  {
   "cell_type": "markdown",
   "metadata": {},
   "source": [
    "Create the server to serve the model."
   ]
  },
  {
   "cell_type": "code",
   "execution_count": 38,
   "metadata": {
    "pycharm": {
     "name": "#%%\n"
    }
   },
   "outputs": [],
   "source": [
    "app = Flask(__name__)\n",
    "\n",
    "@app.route(\"/\", methods=[\"POST\"])\n",
    "def predict():\n",
    "    features = request.json\n",
    "    score = model.predict([features])[0]\n",
    "    pid = monitor.log_prediction(\n",
    "        request_body=request.data,\n",
    "        features=features,\n",
    "        output=score,\n",
    "    )\n",
    "    return {\"result\": score, \"prediction_id\": pid}\n",
    "\n",
    "\n",
    "@app.route(\"/metrics\", methods=[\"GET\"])\n",
    "def metrics():\n",
    "    return monitor.export_http()[0]"
   ]
  },
  {
   "cell_type": "markdown",
   "metadata": {},
   "source": [
    "Start the server. By stopping the server, tap \"i\" twice in the below console."
   ]
  },
  {
   "cell_type": "code",
   "execution_count": 40,
   "metadata": {},
   "outputs": [
    {
     "name": "stdout",
     "output_type": "stream",
     "text": [
      " * Serving Flask app '__main__' (lazy loading)\n",
      " * Environment: production\n",
      "\u001b[31m   WARNING: This is a development server. Do not use it in a production deployment.\u001b[0m\n",
      "\u001b[2m   Use a production WSGI server instead.\u001b[0m\n",
      " * Debug mode: off\n"
     ]
    },
    {
     "name": "stderr",
     "output_type": "stream",
     "text": [
      " * Running on http://127.0.0.1:5000/ (Press CTRL+C to quit)\n",
      "127.0.0.1 - - [21/Dec/2021 18:21:00] \"GET / HTTP/1.1\" 405 -\n",
      "127.0.0.1 - - [21/Dec/2021 18:21:07] \"GET /metrics HTTP/1.1\" 200 -\n"
     ]
    }
   ],
   "source": [
    "app.run()"
   ]
  },
  {
   "cell_type": "markdown",
   "metadata": {},
   "source": [
    "## Serve a diabetes model with monitoring"
   ]
  },
  {
   "cell_type": "code",
   "execution_count": 16,
   "metadata": {},
   "outputs": [
    {
     "name": "stdout",
     "output_type": "stream",
     "text": [
      "README.md          \u001b[34mdata\u001b[m\u001b[m               \u001b[34mdeployment\u001b[m\u001b[m         \u001b[34mmetrics\u001b[m\u001b[m\r\n",
      "\u001b[34mapp\u001b[m\u001b[m                demo.ipynb         docker-compose.yml\r\n"
     ]
    }
   ],
   "source": [
    "!ls"
   ]
  },
  {
   "cell_type": "markdown",
   "metadata": {},
   "source": [
    "Execute docker-compose.yml to start one app server, prometheus and grafana. "
   ]
  },
  {
   "cell_type": "code",
   "execution_count": 17,
   "metadata": {},
   "outputs": [
    {
     "name": "stdout",
     "output_type": "stream",
     "text": [
      "version: \"3\"\r\n",
      "services:\r\n",
      "  graf:\r\n",
      "    image: grafana/grafana:7.5.3\r\n",
      "    ports:\r\n",
      "      - 3000:3000\r\n",
      "    volumes:\r\n",
      "      - ./metrics/provisioning:/etc/grafana/provisioning\r\n",
      "      - ./metrics/dashboards:/var/lib/grafana/dashboards\r\n",
      "  prom:\r\n",
      "    image: prom/prometheus:v2.26.0\r\n",
      "    ports:\r\n",
      "      - 9090:9090\r\n",
      "    volumes:\r\n",
      "      - ./metrics/prometheus.yml:/etc/prometheus/prometheus.yml\r\n",
      "  app:\r\n",
      "    build:\r\n",
      "      context: app\r\n",
      "    ports:\r\n",
      "      - 5000:5000\r\n",
      "    volumes:\r\n",
      "      - ./data/model.pkl:/app/model.pkl\r\n",
      "      - ./data/histogram.txt:/app/histogram.txt\r\n"
     ]
    }
   ],
   "source": [
    "!cat docker-compose.yml"
   ]
  },
  {
   "cell_type": "code",
   "execution_count": 18,
   "metadata": {},
   "outputs": [
    {
     "name": "stdout",
     "output_type": "stream",
     "text": [
      "Creating network \"ha-boxkite-notebook_default\" with the default driver\n",
      "Building app\n",
      "Step 1/7 : FROM python:3.8-slim\n",
      " ---> 1e46b5746c7c\n",
      "Step 2/7 : WORKDIR /app\n",
      " ---> Using cache\n",
      " ---> 8885f2557874\n",
      "Step 3/7 : COPY requirements.txt /app/requirements.txt\n",
      " ---> Using cache\n",
      " ---> 7949bc115878\n",
      "Step 4/7 : RUN pip install --no-cache-dir -r requirements.txt\n",
      " ---> Using cache\n",
      " ---> 2ebb5f5fceea\n",
      "Step 5/7 : COPY serve.py /app/serve.py\n",
      " ---> Using cache\n",
      " ---> 378c9fd0131d\n",
      "Step 6/7 : ENV FLASK_APP serve.py\n",
      " ---> Using cache\n",
      " ---> f6b8fe5da06d\n",
      "Step 7/7 : CMD [\"flask\", \"run\", \"--host=0.0.0.0\"]\n",
      " ---> Using cache\n",
      " ---> de66c03a9004\n",
      "Successfully built de66c03a9004\n",
      "Successfully tagged ha-boxkite-notebook_app:latest\n",
      "\u001b[33mWARNING\u001b[0m: Image for service app was built because it did not already exist. To rebuild this image you must use `docker-compose build` or `docker-compose up --build`.\n",
      "Creating ha-boxkite-notebook_graf_1 ... \n",
      "Creating ha-boxkite-notebook_prom_1 ... \n",
      "Creating ha-boxkite-notebook_app_1  ... \n",
      "\u001b[2Bting ha-boxkite-notebook_prom_1 ... \u001b[32mdone\u001b[0m\u001b[1A\u001b[2K\u001b[2A\u001b[2K"
     ]
    }
   ],
   "source": [
    "!docker-compose up -d"
   ]
  },
  {
   "cell_type": "markdown",
   "metadata": {},
   "source": [
    "Show the running containers."
   ]
  },
  {
   "cell_type": "code",
   "execution_count": 22,
   "metadata": {},
   "outputs": [
    {
     "name": "stdout",
     "output_type": "stream",
     "text": [
      "CONTAINER ID        IMAGE                     COMMAND                  CREATED             STATUS              PORTS                    NAMES\r\n",
      "a103162ea19e        ha-boxkite-notebook_app   \"flask run --host=0.…\"   2 minutes ago       Up 2 minutes        0.0.0.0:5000->5000/tcp   ha-boxkite-notebook_app_1\r\n",
      "53059760c0dc        grafana/grafana:7.5.3     \"/run.sh\"                2 minutes ago       Up 2 minutes        0.0.0.0:3000->3000/tcp   ha-boxkite-notebook_graf_1\r\n",
      "505a3b4114d7        prom/prometheus:v2.26.0   \"/bin/prometheus --c…\"   2 minutes ago       Up 2 minutes        0.0.0.0:9090->9090/tcp   ha-boxkite-notebook_prom_1\r\n"
     ]
    }
   ],
   "source": [
    "!docker ps"
   ]
  },
  {
   "cell_type": "markdown",
   "metadata": {},
   "source": [
    "Check if the app server is serving the metrics of histogram."
   ]
  },
  {
   "cell_type": "code",
   "execution_count": 23,
   "metadata": {},
   "outputs": [
    {
     "name": "stdout",
     "output_type": "stream",
     "text": [
      "# HELP feature_0_value_baseline Baseline values for feature: age\r\n",
      "# TYPE feature_0_value_baseline histogram\r\n",
      "feature_0_value_baseline_bucket{le=\"-0.107225631607358\"} 3.0\r\n",
      "feature_0_value_baseline_bucket{le=\"-0.0854304009012407\"} 16.0\r\n",
      "feature_0_value_baseline_bucket{le=\"-0.06363517019512341\"} 35.0\r\n",
      "feature_0_value_baseline_bucket{le=\"-0.041839939489006106\"} 73.0\r\n",
      "feature_0_value_baseline_bucket{le=\"-0.020044708782888804\"} 115.0\r\n",
      "feature_0_value_baseline_bucket{le=\"0.0017505219232284985\"} 153.0\r\n",
      "feature_0_value_baseline_bucket{le=\"0.023545752629345787\"} 210.0\r\n",
      "feature_0_value_baseline_bucket{le=\"0.04534098333546309\"} 262.0\r\n",
      "feature_0_value_baseline_bucket{le=\"0.06713621404158039\"} 302.0\r\n",
      "feature_0_value_baseline_bucket{le=\"0.0889314447476977\"} 327.0\r\n",
      "feature_0_value_baseline_bucket{le=\"0.110726675453815\"} 331.0\r\n",
      "feature_0_value_baseline_bucket{le=\"+Inf\"} 331.0\r\n",
      "# HELP feature_1_value_baseline_total Baseline values for feature: sex\r\n",
      "# TYPE feature_1_value_baseline_total counter\r\n",
      "feature_1_value_baseline_total{bin=\"-0.044641636506989\"} 176.0\r\n",
      "feature_1_value_baseline_total{bin=\"0.0506801187398187\"} 155.0\r\n",
      "# HELP feature_2_value_baseline Baseline values for feature: bmi\r\n",
      "# TYPE feature_2_value_baseline histogram\r\n",
      "feature_2_value_baseline_bucket{le=\"-0.0902752958985185\"} 1.0\r\n",
      "feature_2_value_baseline_bucket{le=\"-0.07095758718973008\"} 13.0\r\n",
      "feature_2_value_baseline_bucket{le=\"-0.051639878480941655\"} 44.0\r\n",
      "feature_2_value_baseline_bucket{le=\"-0.03232216977215323\"} 85.0\r\n",
      "feature_2_value_baseline_bucket{le=\"-0.013004461063364808\"} 146.0\r\n",
      "feature_2_value_baseline_bucket{le=\"0.006313247645423611\"} 205.0\r\n",
      "feature_2_value_baseline_bucket{le=\"0.025630956354212045\"} 239.0\r\n",
      "feature_2_value_baseline_bucket{le=\"0.04494866506300045\"} 266.0\r\n",
      "feature_2_value_baseline_bucket{le=\"0.06426637377178888\"} 298.0\r\n",
      "feature_2_value_baseline_bucket{le=\"0.08358408248057732\"} 313.0\r\n",
      "feature_2_value_baseline_bucket{le=\"0.10290179118936572\"} 323.0\r\n",
      "feature_2_value_baseline_bucket{le=\"0.12221949989815416\"} 327.0\r\n",
      "feature_2_value_baseline_bucket{le=\"0.14153720860694258\"} 330.0\r\n",
      "feature_2_value_baseline_bucket{le=\"0.160854917315731\"} 331.0\r\n",
      "feature_2_value_baseline_bucket{le=\"+Inf\"} 331.0\r\n",
      "# HELP feature_3_value_baseline Baseline values for feature: bp\r\n",
      "# TYPE feature_3_value_baseline histogram\r\n",
      "feature_3_value_baseline_bucket{le=\"-0.112399602060758\"} 1.0\r\n",
      "feature_3_value_baseline_bucket{le=\"-0.09359623134881384\"} 3.0\r\n",
      "feature_3_value_baseline_bucket{le=\"-0.07479286063686968\"} 11.0\r\n",
      "feature_3_value_baseline_bucket{le=\"-0.05598948992492554\"} 35.0\r\n",
      "feature_3_value_baseline_bucket{le=\"-0.037186119212981386\"} 75.0\r\n",
      "feature_3_value_baseline_bucket{le=\"-0.01838274850103723\"} 132.0\r\n",
      "feature_3_value_baseline_bucket{le=\"0.00042062221090691243\"} 182.0\r\n",
      "feature_3_value_baseline_bucket{le=\"0.01922399292285107\"} 220.0\r\n",
      "feature_3_value_baseline_bucket{le=\"0.038027363634795225\"} 255.0\r\n",
      "feature_3_value_baseline_bucket{le=\"0.05683073434673938\"} 283.0\r\n",
      "feature_3_value_baseline_bucket{le=\"0.07563410505868354\"} 306.0\r\n",
      "feature_3_value_baseline_bucket{le=\"0.0944374757706277\"} 319.0\r\n",
      "feature_3_value_baseline_bucket{le=\"0.11324084648257182\"} 329.0\r\n",
      "feature_3_value_baseline_bucket{le=\"0.132044217194516\"} 331.0\r\n",
      "feature_3_value_baseline_bucket{le=\"+Inf\"} 331.0\r\n",
      "# HELP feature_4_value_baseline Baseline values for feature: s1\r\n",
      "# TYPE feature_4_value_baseline histogram\r\n",
      "feature_4_value_baseline_bucket{le=\"-0.126780669916514\"} 1.0\r\n",
      "feature_4_value_baseline_bucket{le=\"-0.10923727097444962\"} 1.0\r\n",
      "feature_4_value_baseline_bucket{le=\"-0.09169387203238524\"} 6.0\r\n",
      "feature_4_value_baseline_bucket{le=\"-0.07415047309032087\"} 16.0\r\n",
      "feature_4_value_baseline_bucket{le=\"-0.0566070741482565\"} 35.0\r\n",
      "feature_4_value_baseline_bucket{le=\"-0.039063675206192125\"} 65.0\r\n",
      "feature_4_value_baseline_bucket{le=\"-0.021520276264127752\"} 106.0\r\n",
      "feature_4_value_baseline_bucket{le=\"-0.00397687732206338\"} 166.0\r\n",
      "feature_4_value_baseline_bucket{le=\"0.013566521620000993\"} 210.0\r\n",
      "feature_4_value_baseline_bucket{le=\"0.031109920562065352\"} 248.0\r\n",
      "feature_4_value_baseline_bucket{le=\"0.04865331950412974\"} 276.0\r\n",
      "feature_4_value_baseline_bucket{le=\"0.06619671844619412\"} 297.0\r\n",
      "feature_4_value_baseline_bucket{le=\"0.08374011738825848\"} 311.0\r\n",
      "feature_4_value_baseline_bucket{le=\"0.10128351633032284\"} 319.0\r\n",
      "feature_4_value_baseline_bucket{le=\"0.11882691527238723\"} 322.0\r\n",
      "feature_4_value_baseline_bucket{le=\"0.13637031421445162\"} 329.0\r\n",
      "feature_4_value_baseline_bucket{le=\"0.153913713156516\"} 331.0\r\n",
      "feature_4_value_baseline_bucket{le=\"+Inf\"} 331.0\r\n",
      "# HELP feature_5_value_baseline Baseline values for feature: s2\r\n",
      "# TYPE feature_5_value_baseline histogram\r\n",
      "feature_5_value_baseline_bucket{le=\"-0.115613065979398\"} 1.0\r\n",
      "feature_5_value_baseline_bucket{le=\"-0.09906564199851953\"} 5.0\r\n",
      "feature_5_value_baseline_bucket{le=\"-0.08251821801764106\"} 11.0\r\n",
      "feature_5_value_baseline_bucket{le=\"-0.06597079403676258\"} 29.0\r\n",
      "feature_5_value_baseline_bucket{le=\"-0.04942337005588411\"} 43.0\r\n",
      "feature_5_value_baseline_bucket{le=\"-0.032875946075005644\"} 74.0\r\n",
      "feature_5_value_baseline_bucket{le=\"-0.016328522094127162\"} 127.0\r\n",
      "feature_5_value_baseline_bucket{le=\"0.00021890188675130484\"} 181.0\r\n",
      "feature_5_value_baseline_bucket{le=\"0.016766325867629772\"} 218.0\r\n",
      "feature_5_value_baseline_bucket{le=\"0.03331374984850824\"} 254.0\r\n",
      "feature_5_value_baseline_bucket{le=\"0.04986117382938671\"} 284.0\r\n",
      "feature_5_value_baseline_bucket{le=\"0.06640859781026517\"} 301.0\r\n",
      "feature_5_value_baseline_bucket{le=\"0.08295602179114367\"} 310.0\r\n",
      "feature_5_value_baseline_bucket{le=\"0.09950344577202214\"} 319.0\r\n",
      "feature_5_value_baseline_bucket{le=\"0.1160508697529006\"} 322.0\r\n",
      "feature_5_value_baseline_bucket{le=\"0.13259829373377907\"} 329.0\r\n",
      "feature_5_value_baseline_bucket{le=\"0.14914571771465754\"} 329.0\r\n",
      "feature_5_value_baseline_bucket{le=\"0.16569314169553603\"} 330.0\r\n",
      "feature_5_value_baseline_bucket{le=\"0.18224056567641447\"} 330.0\r\n",
      "feature_5_value_baseline_bucket{le=\"0.198787989657293\"} 331.0\r\n",
      "feature_5_value_baseline_bucket{le=\"+Inf\"} 331.0\r\n",
      "# HELP feature_6_value_baseline Baseline values for feature: s3\r\n",
      "# TYPE feature_6_value_baseline histogram\r\n",
      "feature_6_value_baseline_bucket{le=\"-0.0912621371051588\"} 1.0\r\n",
      "feature_6_value_baseline_bucket{le=\"-0.07423456226125613\"} 7.0\r\n",
      "feature_6_value_baseline_bucket{le=\"-0.05720698741735346\"} 30.0\r\n",
      "feature_6_value_baseline_bucket{le=\"-0.040179412573450785\"} 61.0\r\n",
      "feature_6_value_baseline_bucket{le=\"-0.02315183772954811\"} 115.0\r\n",
      "feature_6_value_baseline_bucket{le=\"-0.006124262885645437\"} 169.0\r\n",
      "feature_6_value_baseline_bucket{le=\"0.010903311958257236\"} 206.0\r\n",
      "feature_6_value_baseline_bucket{le=\"0.02793088680215991\"} 246.0\r\n",
      "feature_6_value_baseline_bucket{le=\"0.044958461646062584\"} 272.0\r\n",
      "feature_6_value_baseline_bucket{le=\"0.06198603648996524\"} 294.0\r\n",
      "feature_6_value_baseline_bucket{le=\"0.07901361133386793\"} 316.0\r\n",
      "feature_6_value_baseline_bucket{le=\"0.09604118617777062\"} 318.0\r\n",
      "feature_6_value_baseline_bucket{le=\"0.11306876102167328\"} 322.0\r\n",
      "feature_6_value_baseline_bucket{le=\"0.13009633586557595\"} 324.0\r\n",
      "feature_6_value_baseline_bucket{le=\"0.1471239107094786\"} 326.0\r\n",
      "feature_6_value_baseline_bucket{le=\"0.16415148555338133\"} 328.0\r\n",
      "feature_6_value_baseline_bucket{le=\"0.181179060397284\"} 331.0\r\n",
      "feature_6_value_baseline_bucket{le=\"+Inf\"} 331.0\r\n",
      "# HELP feature_7_value_baseline Baseline values for feature: s4\r\n",
      "# TYPE feature_7_value_baseline histogram\r\n",
      "feature_7_value_baseline_bucket{le=\"-0.076394503750001\"} 22.0\r\n",
      "feature_7_value_baseline_bucket{le=\"-0.056269200133832145\"} 23.0\r\n",
      "feature_7_value_baseline_bucket{le=\"-0.0361438965176633\"} 123.0\r\n",
      "feature_7_value_baseline_bucket{le=\"-0.01601859290149446\"} 126.0\r\n",
      "feature_7_value_baseline_bucket{le=\"0.004106710714674389\"} 224.0\r\n",
      "feature_7_value_baseline_bucket{le=\"0.024232014330843238\"} 233.0\r\n",
      "feature_7_value_baseline_bucket{le=\"0.04435731794701207\"} 284.0\r\n",
      "feature_7_value_baseline_bucket{le=\"0.06448262156318092\"} 286.0\r\n",
      "feature_7_value_baseline_bucket{le=\"0.08460792517934977\"} 313.0\r\n",
      "feature_7_value_baseline_bucket{le=\"0.10473322879551862\"} 316.0\r\n",
      "feature_7_value_baseline_bucket{le=\"0.12485853241168747\"} 326.0\r\n",
      "feature_7_value_baseline_bucket{le=\"0.1449838360278563\"} 328.0\r\n",
      "feature_7_value_baseline_bucket{le=\"0.16510913964402513\"} 330.0\r",
      "\r\n",
      "feature_7_value_baseline_bucket{le=\"0.185234443260194\"} 331.0\r\n",
      "feature_7_value_baseline_bucket{le=\"+Inf\"} 331.0\r\n",
      "# HELP feature_8_value_baseline Baseline values for feature: s5\r\n",
      "# TYPE feature_8_value_baseline histogram\r\n",
      "feature_8_value_baseline_bucket{le=\"-0.104364820832166\"} 1.0\r\n",
      "feature_8_value_baseline_bucket{le=\"-0.08605991307484492\"} 9.0\r\n",
      "feature_8_value_baseline_bucket{le=\"-0.06775500531752385\"} 20.0\r\n",
      "feature_8_value_baseline_bucket{le=\"-0.04945009756020277\"} 44.0\r\n",
      "feature_8_value_baseline_bucket{le=\"-0.031145189802881695\"} 84.0\r\n",
      "feature_8_value_baseline_bucket{le=\"-0.01284028204556062\"} 146.0\r\n",
      "feature_8_value_baseline_bucket{le=\"0.005464625711760457\"} 186.0\r\n",
      "feature_8_value_baseline_bucket{le=\"0.023769533469081533\"} 221.0\r\n",
      "feature_8_value_baseline_bucket{le=\"0.04207444122640261\"} 261.0\r\n",
      "feature_8_value_baseline_bucket{le=\"0.060379348983723685\"} 288.0\r\n",
      "feature_8_value_baseline_bucket{le=\"0.07868425674104476\"} 312.0\r\n",
      "feature_8_value_baseline_bucket{le=\"0.09698916449836584\"} 321.0\r\n",
      "feature_8_value_baseline_bucket{le=\"0.11529407225568691\"} 325.0\r\n",
      "feature_8_value_baseline_bucket{le=\"0.133598980013008\"} 331.0\r\n",
      "feature_8_value_baseline_bucket{le=\"+Inf\"} 331.0\r\n",
      "# HELP feature_9_value_baseline Baseline values for feature: s6\r\n",
      "# TYPE feature_9_value_baseline histogram\r\n",
      "feature_9_value_baseline_bucket{le=\"-0.137767225690012\"} 1.0\r\n",
      "feature_9_value_baseline_bucket{le=\"-0.12068103466631883\"} 2.0\r\n",
      "feature_9_value_baseline_bucket{le=\"-0.10359484364262564\"} 4.0\r\n",
      "feature_9_value_baseline_bucket{le=\"-0.08650865261893245\"} 10.0\r\n",
      "feature_9_value_baseline_bucket{le=\"-0.06942246159523927\"} 22.0\r\n",
      "feature_9_value_baseline_bucket{le=\"-0.05233627057154608\"} 48.0\r\n",
      "feature_9_value_baseline_bucket{le=\"-0.03525007954785289\"} 81.0\r\n",
      "feature_9_value_baseline_bucket{le=\"-0.018163888524159705\"} 118.0\r\n",
      "feature_9_value_baseline_bucket{le=\"-0.001077697500466518\"} 164.0\r\n",
      "feature_9_value_baseline_bucket{le=\"0.01600849352322667\"} 228.0\r\n",
      "feature_9_value_baseline_bucket{le=\"0.033094684546919856\"} 262.0\r\n",
      "feature_9_value_baseline_bucket{le=\"0.05018087557061304\"} 290.0\r\n",
      "feature_9_value_baseline_bucket{le=\"0.06726706659430623\"} 303.0\r\n",
      "feature_9_value_baseline_bucket{le=\"0.08435325761799942\"} 315.0\r\n",
      "feature_9_value_baseline_bucket{le=\"0.1014394486416926\"} 320.0\r\n",
      "feature_9_value_baseline_bucket{le=\"0.11852563966538579\"} 324.0\r\n",
      "feature_9_value_baseline_bucket{le=\"0.135611830689079\"} 331.0\r\n",
      "feature_9_value_baseline_bucket{le=\"+Inf\"} 331.0\r\n",
      "# HELP inference_value_baseline Baseline inference values for test set\r\n",
      "# TYPE inference_value_baseline histogram\r\n",
      "inference_value_baseline_bucket{le=\"31.37122563280957\"} 1.0\r\n",
      "inference_value_baseline_bucket{le=\"63.971986571673355\"} 7.0\r\n",
      "inference_value_baseline_bucket{le=\"96.57274751053714\"} 27.0\r\n",
      "inference_value_baseline_bucket{le=\"129.1735084494009\"} 43.0\r\n",
      "inference_value_baseline_bucket{le=\"161.7742693882647\"} 64.0\r\n",
      "inference_value_baseline_bucket{le=\"194.3750303271285\"} 90.0\r\n",
      "inference_value_baseline_bucket{le=\"226.97579126599229\"} 99.0\r\n",
      "inference_value_baseline_bucket{le=\"259.57655220485606\"} 106.0\r\n",
      "inference_value_baseline_bucket{le=\"292.17731314371986\"} 111.0\r\n",
      "inference_value_baseline_bucket{le=\"+Inf\"} 111.0\r\n",
      "inference_value_baseline_count 111.0\r\n",
      "inference_value_baseline_sum 16609.070701307035\r\n",
      "# HELP inference_value Real time inference values for test set\r\n",
      "# TYPE inference_value histogram\r\n",
      "inference_value_bucket{le=\"31.37122563280957\"} 0.0\r\n",
      "inference_value_bucket{le=\"63.971986571673355\"} 0.0\r\n",
      "inference_value_bucket{le=\"96.57274751053714\"} 0.0\r\n",
      "inference_value_bucket{le=\"129.1735084494009\"} 0.0\r\n",
      "inference_value_bucket{le=\"161.7742693882647\"} 0.0\r\n",
      "inference_value_bucket{le=\"194.3750303271285\"} 0.0\r\n",
      "inference_value_bucket{le=\"226.97579126599229\"} 0.0\r\n",
      "inference_value_bucket{le=\"259.57655220485606\"} 0.0\r\n",
      "inference_value_bucket{le=\"292.17731314371986\"} 0.0\r\n",
      "inference_value_bucket{le=\"+Inf\"} 0.0\r\n",
      "inference_value_count 0.0\r\n",
      "inference_value_sum 0.0\r\n",
      "# HELP inference_value_created Real time inference values for test set\r\n",
      "# TYPE inference_value_created gauge\r\n",
      "inference_value_created 1.6401057915850666e+09\r\n",
      "# HELP feature_0_value Real time values for feature: age\r\n",
      "# TYPE feature_0_value histogram\r\n",
      "feature_0_value_bucket{le=\"-0.107225631607358\"} 0.0\r\n",
      "feature_0_value_bucket{le=\"-0.0854304009012407\"} 0.0\r\n",
      "feature_0_value_bucket{le=\"-0.06363517019512341\"} 0.0\r\n",
      "feature_0_value_bucket{le=\"-0.041839939489006106\"} 0.0\r\n",
      "feature_0_value_bucket{le=\"-0.020044708782888804\"} 0.0\r\n",
      "feature_0_value_bucket{le=\"0.0017505219232284985\"} 0.0\r\n",
      "feature_0_value_bucket{le=\"0.023545752629345787\"} 0.0\r\n",
      "feature_0_value_bucket{le=\"0.04534098333546309\"} 0.0\r\n",
      "feature_0_value_bucket{le=\"0.06713621404158039\"} 0.0\r\n",
      "feature_0_value_bucket{le=\"0.0889314447476977\"} 0.0\r\n",
      "feature_0_value_bucket{le=\"0.110726675453815\"} 0.0\r\n",
      "feature_0_value_bucket{le=\"+Inf\"} 0.0\r\n",
      "feature_0_value_count 0.0\r\n",
      "# HELP feature_0_value_created Real time values for feature: age\r\n",
      "# TYPE feature_0_value_created gauge\r\n",
      "feature_0_value_created 1.6401057915818186e+09\r\n",
      "# HELP feature_1_value_total Real time values for feature: sex\r\n",
      "# TYPE feature_1_value_total counter\r\n",
      "feature_1_value_total{bin=\"-0.044641636506989\"} 0.0\r\n",
      "feature_1_value_total{bin=\"0.0506801187398187\"} 0.0\r\n",
      "# HELP feature_1_value_created Real time values for feature: sex\r\n",
      "# TYPE feature_1_value_created gauge\r\n",
      "feature_1_value_created{bin=\"-0.044641636506989\"} 1.6401057915819464e+09\r\n",
      "feature_1_value_created{bin=\"0.0506801187398187\"} 1.6401057915819662e+09\r\n",
      "# HELP feature_2_value Real time values for feature: bmi\r\n",
      "# TYPE feature_2_value histogram\r\n",
      "feature_2_value_bucket{le=\"-0.0902752958985185\"} 0.0\r\n",
      "feature_2_value_bucket{le=\"-0.07095758718973008\"} 0.0\r\n",
      "feature_2_value_bucket{le=\"-0.051639878480941655\"} 0.0\r\n",
      "feature_2_value_bucket{le=\"-0.03232216977215323\"} 0.0\r\n",
      "feature_2_value_bucket{le=\"-0.013004461063364808\"} 0.0\r\n",
      "feature_2_value_bucket{le=\"0.006313247645423611\"} 0.0\r\n",
      "feature_2_value_bucket{le=\"0.025630956354212045\"} 0.0\r\n",
      "feature_2_value_bucket{le=\"0.04494866506300045\"} 0.0\r\n",
      "feature_2_value_bucket{le=\"0.06426637377178888\"} 0.0\r\n",
      "feature_2_value_bucket{le=\"0.08358408248057732\"} 0.0\r\n",
      "feature_2_value_bucket{le=\"0.10290179118936572\"} 0.0\r\n",
      "feature_2_value_bucket{le=\"0.12221949989815416\"} 0.0\r\n",
      "feature_2_value_bucket{le=\"0.14153720860694258\"} 0.0\r\n",
      "feature_2_value_bucket{le=\"0.160854917315731\"} 0.0\r\n",
      "feature_2_value_bucket{le=\"+Inf\"} 0.0\r\n",
      "feature_2_value_count 0.0\r\n",
      "# HELP feature_2_value_created Real time values for feature: bmi\r\n",
      "# TYPE feature_2_value_created gauge\r\n",
      "feature_2_value_created 1.640105791582122e+09\r\n",
      "# HELP feature_3_value Real time values for feature: bp\r\n",
      "# TYPE feature_3_value histogram\r\n",
      "feature_3_value_bucket{le=\"-0.112399602060758\"} 0.0\r\n",
      "feature_3_value_bucket{le=\"-0.09359623134881384\"} 0.0\r\n",
      "feature_3_value_bucket{le=\"-0.07479286063686968\"} 0.0\r\n",
      "feature_3_value_bucket{le=\"-0.05598948992492554\"} 0.0\r\n",
      "feature_3_value_bucket{le=\"-0.037186119212981386\"} 0.0\r\n",
      "feature_3_value_bucket{le=\"-0.01838274850103723\"} 0.0\r\n",
      "feature_3_value_bucket{le=\"0.00042062221090691243\"} 0.0\r\n",
      "feature_3_value_bucket{le=\"0.01922399292285107\"} 0.0\r\n",
      "feature_3_value_bucket{le=\"0.038027363634795225\"} 0.0\r\n",
      "feature_3_value_bucket{le=\"0.05683073434673938\"} 0.0\r\n",
      "feature_3_value_bucket{le=\"0.07563410505868354\"} 0.0\r\n",
      "feature_3_value_bucket{le=\"0.0944374757706277\"} 0.0\r\n",
      "feature_3_value_bucket{le=\"0.11324084648257182\"} 0.0\r\n",
      "feature_3_value_bucket{le=\"0.132044217194516\"} 0.0\r\n",
      "feature_3_value_bucket{le=\"+Inf\"} 0.0\r\n",
      "feature_3_value_count 0.0\r\n",
      "# HELP feature_3_value_created Real time values for feature: bp\r\n",
      "# TYPE feature_3_value_created gauge\r\n",
      "feature_3_value_created 1.6401057915823154e+09\r\n",
      "# HELP feature_4_value Real time values for feature: s1\r\n",
      "# TYPE feature_4_value histogram\r\n",
      "feature_4_value_bucket{le=\"-0.126780669916514\"} 0.0\r\n",
      "feature_4_value_bucket{le=\"-0.10923727097444962\"} 0.0\r\n",
      "feature_4_value_bucket{le=\"-0.09169387203238524\"} 0.0\r\n",
      "feature_4_value_bucket{le=\"-0.07415047309032087\"} 0.0\r\n",
      "feature_4_value_bucket{le=\"-0.0566070741482565\"} 0.0\r\n",
      "feature_4_value_bucket{le=\"-0.039063675206192125\"} 0.0\r\n",
      "feature_4_value_bucket{le=\"-0.021520276264127752\"} 0.0\r\n",
      "feature_4_value_bucket{le=\"-0.00397687732206338\"} 0.0\r\n",
      "feature_4_value_bucket{le=\"0.013566521620000993\"} 0.0\r\n",
      "feature_4_value_bucket{le=\"0.031109920562065352\"} 0.0\r\n",
      "feature_4_value_bucket{le=\"0.04865331950412974\"} 0.0\r\n",
      "feature_4_value_bucket{le=\"0.06619671844619412\"} 0.0\r\n",
      "feature_4_value_bucket{le=\"0.08374011738825848\"} 0.0\r\n",
      "feature_4_value_bucket{le=\"0.10128351633032284\"} 0.0\r\n",
      "feature_4_value_bucket{le=\"0.11882691527238723\"} 0.0\r\n",
      "feature_4_value_bucket{le=\"0.13637031421445162\"} 0.0\r\n",
      "feature_4_value_bucket{le=\"0.153913713156516\"} 0.0\r\n",
      "feature_4_value_bucket{le=\"+Inf\"} 0.0\r\n",
      "feature_4_value_count 0.0\r\n",
      "# HELP feature_4_value_created Real time values for feature: s1\r\n",
      "# TYPE feature_4_value_created gauge\r\n",
      "feature_4_value_created 1.6401057915825863e+09\r\n",
      "# HELP feature_5_value Real time values for feature: s2\r\n",
      "# TYPE feature_5_value histogram\r\n",
      "feature_5_value_bucket{le=\"-0.115613065979398\"} 0.0\r\n",
      "feature_5_value_bucket{le=\"-0.09906564199851953\"} 0.0\r\n",
      "feature_5_value_bucket{le=\"-0.08251821801764106\"} 0.0\r\n",
      "feature_5_value_bucket{le=\"-0.06597079403676258\"} 0.0\r\n",
      "feature_5_value_bucket{le=\"-0.04942337005588411\"} 0.0\r\n",
      "feature_5_value_bucket{le=\"-0.032875946075005644\"} 0.0\r\n",
      "feature_5_value_bucket{le=\"-0.016328522094127162\"} 0.0\r\n",
      "feature_5_value_bucket{le=\"0.00021890188675130484\"} 0.0\r\n",
      "feature_5_value_bucket{le=\"0.016766325867629772\"} 0.0\r\n",
      "feature_5_value_bucket{le=\"0.03331374984850824\"} 0.0\r\n",
      "feature_5_value_bucket{le=\"0.04986117382938671\"} 0.0\r\n",
      "feature_5_value_bucket{le=\"0.06640859781026517\"} 0.0\r\n",
      "feature_5_value_bucket{le=\"0.08295602179114367\"} 0.0\r\n",
      "feature_5_value_bucket{le=\"0.09950344577202214\"} 0.0\r\n",
      "feature_5_value_bucket{le=\"0.1160508697529006\"} 0.0\r\n",
      "feature_5_value_bucket{le=\"0.13259829373377907\"} 0.0\r\n",
      "feature_5_value_bucket{le=\"0.14914571771465754\"} 0.0\r\n",
      "feature_5_value_bucket{le=\"0.16569314169553603\"} 0.0\r\n",
      "feature_5_value_bucket{le=\"0.18224056567641447\"} 0.0\r\n",
      "feature_5_value_bucket{le=\"0.198787989657293\"} 0.0\r\n",
      "feature_5_value_bucket{le=\"+Inf\"} 0.0\r\n",
      "feature_5_value_count 0.0\r\n",
      "# HELP feature_5_value_created Real time values for feature: s2\r\n",
      "# TYPE feature_5_value_created gauge\r\n",
      "feature_5_value_created 1.6401057915828319e+09\r\n",
      "# HELP feature_6_value Real time values for feature: s3\r\n",
      "# TYPE feature_6_value histogram\r\n",
      "feature_6_value_bucket{le=\"-0.0912621371051588\"} 0.0\r\n",
      "feature_6_value_bucket{le=\"-0.07423456226125613\"} 0.0\r\n",
      "feature_6_value_bucket{le=\"-0.05720698741735346\"} 0.0\r\n",
      "feature_6_value_bucket{le=\"-0.040179412573450785\"} 0.0\r\n",
      "feature_6_value_bucket{le=\"-0.02315183772954811\"} 0.0\r\n",
      "feature_6_value_bucket{le=\"-0.006124262885645437\"} 0.0\r\n",
      "feature_6_value_bucket{le=\"0.010903311958257236\"} 0.0\r\n",
      "feature_6_value_bucket{le=\"0.02793088680215991\"} 0.0\r\n",
      "feature_6_value_bucket{le=\"0.044958461646062584\"} 0.0\r\n",
      "feature_6_value_bucket{le=\"0.06198603648996524\"} 0.0\r\n",
      "feature_6_value_bucket{le=\"0.07901361133386793\"} 0.0\r\n",
      "feature_6_value_bucket{le=\"0.09604118617777062\"} 0.0\r\n",
      "feature_6_value_bucket{le=\"0.11306876102167328\"} 0.0\r\n",
      "feature_6_value_bucket{le=\"0.13009633586557595\"} 0.0\r\n",
      "feature_6_value_bucket{le=\"0.1471239107094786\"} 0.0\r\n",
      "feature_6_value_bucket{le=\"0.16415148555338133\"} 0.0\r\n",
      "feature_6_value_bucket{le=\"0.181179060397284\"} 0.0\r\n",
      "feature_6_value_bucket{le=\"+Inf\"} 0.0\r\n",
      "feature_6_value_count 0.0\r\n",
      "# HELP feature_6_value_created Real time values for feature: s3\r\n",
      "# TYPE feature_6_value_created gauge\r\n",
      "feature_6_value_created 1.6401057915831878e+09\r\n",
      "# HELP feature_7_value Real time values for feature: s4\r\n",
      "# TYPE feature_7_value histogram\r\n",
      "feature_7_value_bucket{le=\"-0.076394503750001\"} 0.0\r\n",
      "feature_7_value_bucket{le=\"-0.056269200133832145\"} 0.0\r\n",
      "feature_7_value_bucket{le=\"-0.0361438965176633\"} 0.0\r\n",
      "feature_7_value_bucket{le=\"-0.01601859290149446\"} 0.0\r\n",
      "feature_7_value_bucket{le=\"0.004106710714674389\"} 0.0\r\n",
      "feature_7_value_bucket{le=\"0.024232014330843238\"} 0.0\r\n",
      "feature_7_value_bucket{le=\"0.04435731794701207\"} 0.0\r\n",
      "feature_7_value_bucket{le=\"0.06448262156318092\"} 0.0\r\n",
      "feature_7_value_bucket{le=\"0.08460792517934977\"} 0.0\r\n",
      "feature_7_value_bucket{le=\"0.10473322879551862\"} 0.0\r\n",
      "feature_7_value_bucket{le=\"0.12485853241168747\"} 0.0\r\n",
      "feature_7_value_bucket{le=\"0.1449838360278563\"} 0.0\r\n",
      "feature_7_value_bucket{le=\"0.16510913964402513\"} 0.0\r",
      "\r\n",
      "feature_7_value_bucket{le=\"0.185234443260194\"} 0.0\r\n",
      "feature_7_value_bucket{le=\"+Inf\"} 0.0\r\n",
      "feature_7_value_count 0.0\r\n",
      "# HELP feature_7_value_created Real time values for feature: s4\r\n",
      "# TYPE feature_7_value_created gauge\r\n",
      "feature_7_value_created 1.6401057915839393e+09\r\n",
      "# HELP feature_8_value Real time values for feature: s5\r\n",
      "# TYPE feature_8_value histogram\r\n",
      "feature_8_value_bucket{le=\"-0.104364820832166\"} 0.0\r\n",
      "feature_8_value_bucket{le=\"-0.08605991307484492\"} 0.0\r\n",
      "feature_8_value_bucket{le=\"-0.06775500531752385\"} 0.0\r\n",
      "feature_8_value_bucket{le=\"-0.04945009756020277\"} 0.0\r\n",
      "feature_8_value_bucket{le=\"-0.031145189802881695\"} 0.0\r\n",
      "feature_8_value_bucket{le=\"-0.01284028204556062\"} 0.0\r\n",
      "feature_8_value_bucket{le=\"0.005464625711760457\"} 0.0\r\n",
      "feature_8_value_bucket{le=\"0.023769533469081533\"} 0.0\r\n",
      "feature_8_value_bucket{le=\"0.04207444122640261\"} 0.0\r\n",
      "feature_8_value_bucket{le=\"0.060379348983723685\"} 0.0\r\n",
      "feature_8_value_bucket{le=\"0.07868425674104476\"} 0.0\r\n",
      "feature_8_value_bucket{le=\"0.09698916449836584\"} 0.0\r\n",
      "feature_8_value_bucket{le=\"0.11529407225568691\"} 0.0\r\n",
      "feature_8_value_bucket{le=\"0.133598980013008\"} 0.0\r\n",
      "feature_8_value_bucket{le=\"+Inf\"} 0.0\r\n",
      "feature_8_value_count 0.0\r\n",
      "# HELP feature_8_value_created Real time values for feature: s5\r\n",
      "# TYPE feature_8_value_created gauge\r\n",
      "feature_8_value_created 1.6401057915842195e+09\r\n",
      "# HELP feature_9_value Real time values for feature: s6\r\n",
      "# TYPE feature_9_value histogram\r\n",
      "feature_9_value_bucket{le=\"-0.137767225690012\"} 0.0\r\n",
      "feature_9_value_bucket{le=\"-0.12068103466631883\"} 0.0\r\n",
      "feature_9_value_bucket{le=\"-0.10359484364262564\"} 0.0\r\n",
      "feature_9_value_bucket{le=\"-0.08650865261893245\"} 0.0\r\n",
      "feature_9_value_bucket{le=\"-0.06942246159523927\"} 0.0\r\n",
      "feature_9_value_bucket{le=\"-0.05233627057154608\"} 0.0\r\n",
      "feature_9_value_bucket{le=\"-0.03525007954785289\"} 0.0\r\n",
      "feature_9_value_bucket{le=\"-0.018163888524159705\"} 0.0\r\n",
      "feature_9_value_bucket{le=\"-0.001077697500466518\"} 0.0\r\n",
      "feature_9_value_bucket{le=\"0.01600849352322667\"} 0.0\r\n",
      "feature_9_value_bucket{le=\"0.033094684546919856\"} 0.0\r\n",
      "feature_9_value_bucket{le=\"0.05018087557061304\"} 0.0\r\n",
      "feature_9_value_bucket{le=\"0.06726706659430623\"} 0.0\r\n",
      "feature_9_value_bucket{le=\"0.08435325761799942\"} 0.0\r\n",
      "feature_9_value_bucket{le=\"0.1014394486416926\"} 0.0\r\n",
      "feature_9_value_bucket{le=\"0.11852563966538579\"} 0.0\r\n",
      "feature_9_value_bucket{le=\"0.135611830689079\"} 0.0\r\n",
      "feature_9_value_bucket{le=\"+Inf\"} 0.0\r\n",
      "feature_9_value_count 0.0\r",
      "\r\n",
      "# HELP feature_9_value_created Real time values for feature: s6\r\n",
      "# TYPE feature_9_value_created gauge\r\n",
      "feature_9_value_created 1.6401057915844483e+09\r\n",
      "# HELP baseline_metrics_info Metadata about the baseline training metrics\r\n",
      "# TYPE baseline_metrics_info gauge\r\n",
      "baseline_metrics_info{feature_name=\"age\",metric_name=\"feature_0_value_baseline\",metric_type=\"histogram\"} 1.0\r\n",
      "baseline_metrics_info{feature_name=\"sex\",metric_name=\"feature_1_value_baseline\",metric_type=\"counter\"} 1.0\r\n",
      "baseline_metrics_info{feature_name=\"bmi\",metric_name=\"feature_2_value_baseline\",metric_type=\"histogram\"} 1.0\r\n",
      "baseline_metrics_info{feature_name=\"bp\",metric_name=\"feature_3_value_baseline\",metric_type=\"histogram\"} 1.0\r\n",
      "baseline_metrics_info{feature_name=\"s1\",metric_name=\"feature_4_value_baseline\",metric_type=\"histogram\"} 1.0\r\n",
      "baseline_metrics_info{feature_name=\"s2\",metric_name=\"feature_5_value_baseline\",metric_type=\"histogram\"} 1.0\r\n",
      "baseline_metrics_info{feature_name=\"s3\",metric_name=\"feature_6_value_baseline\",metric_type=\"histogram\"} 1.0\r\n",
      "baseline_metrics_info{feature_name=\"s4\",metric_name=\"feature_7_value_baseline\",metric_type=\"histogram\"} 1.0\r\n",
      "baseline_metrics_info{feature_name=\"s5\",metric_name=\"feature_8_value_baseline\",metric_type=\"histogram\"} 1.0\r\n",
      "baseline_metrics_info{feature_name=\"s6\",metric_name=\"feature_9_value_baseline\",metric_type=\"histogram\"} 1.0\r\n",
      "baseline_metrics_info{feature_name=\"Baseline inference values for test set\",metric_name=\"inference_value_baseline\",metric_type=\"histogram\"} 1.0\r\n"
     ]
    }
   ],
   "source": [
    "!curl -s http://localhost:5000/metrics"
   ]
  },
  {
   "cell_type": "markdown",
   "metadata": {},
   "source": [
    "Import the dependencies in order to simulate the dummy traffic."
   ]
  },
  {
   "cell_type": "code",
   "execution_count": 24,
   "metadata": {},
   "outputs": [],
   "source": [
    "from random import gauss\n",
    "from time import sleep\n",
    "from requests import Session"
   ]
  },
  {
   "cell_type": "markdown",
   "metadata": {},
   "source": [
    "Generate the online queries."
   ]
  },
  {
   "cell_type": "code",
   "execution_count": 25,
   "metadata": {},
   "outputs": [
    {
     "name": "stdout",
     "output_type": "stream",
     "text": [
      "response[0]: {'prediction_id': 'unknown-server/2021-12-21T17:02:13/2eaea7e6-6f8f-4f0e-b6e6-11c69e6f3973', 'result': 89.08273298697215}\n",
      "response[10]: {'prediction_id': 'unknown-server/2021-12-21T17:02:15/cb7f0281-2d6d-432c-acb2-e1cd03776180', 'result': 90.6808637814857}\n",
      "response[20]: {'prediction_id': 'unknown-server/2021-12-21T17:02:16/e05c43dd-53dc-425c-afe6-b9c0d1a68116', 'result': 86.1178976556911}\n",
      "response[30]: {'prediction_id': 'unknown-server/2021-12-21T17:02:17/010b0ae3-0dbf-4479-889d-0c313744f845', 'result': 99.79033532280393}\n",
      "response[40]: {'prediction_id': 'unknown-server/2021-12-21T17:02:18/0416c969-2ccc-4851-aa55-9dc767b738c6', 'result': 84.96351431564621}\n",
      "response[50]: {'prediction_id': 'unknown-server/2021-12-21T17:02:19/ca1d23dd-03ed-4acd-a30d-2ef36df83fcc', 'result': 89.77162032381283}\n"
     ]
    }
   ],
   "source": [
    "data = [0.03, 0.0506801187398187, -0.002, -0.01, 0.04, 0.01, 0.08, -0.04, 0.005, -0.1]\n",
    "\n",
    "with Session() as s:\n",
    "    for i in range(60):\n",
    "        data[0] = gauss(6, 2)\n",
    "        resp = s.post(\"http://localhost:5000\", json=data)\n",
    "        resp.raise_for_status()\n",
    "        if i % 10 == 0:\n",
    "            print(f\"response[{i}]: {resp.json()}\")\n",
    "        sleep(0.1)\n"
   ]
  },
  {
   "cell_type": "markdown",
   "metadata": {},
   "source": [
    "Go to [grafana dashboard](http://localhost:3000/) to check the visuals.\n",
    "\n",
    "![grafana dashboard](./pix/grafana.png)"
   ]
  },
  {
   "cell_type": "markdown",
   "metadata": {},
   "source": [
    "Go to [prometheus](http://localhost:9090/) to check the metrics.\n",
    "\n",
    "![prometheus](./pix/prometheus.png)"
   ]
  },
  {
   "cell_type": "markdown",
   "metadata": {},
   "source": [
    "Shutdown the servers and remove the docker containers."
   ]
  },
  {
   "cell_type": "code",
   "execution_count": 26,
   "metadata": {},
   "outputs": [
    {
     "name": "stdout",
     "output_type": "stream",
     "text": [
      "Stopping ha-boxkite-notebook_app_1  ... \n",
      "Stopping ha-boxkite-notebook_graf_1 ... \n",
      "Stopping ha-boxkite-notebook_prom_1 ... \n",
      "\u001b[3BRemoving ha-boxkite-notebook_app_1  ... mdone\u001b[0m\u001b[1A\u001b[2K\u001b[3A\u001b[2K\n",
      "Removing ha-boxkite-notebook_graf_1 ... \n",
      "Removing ha-boxkite-notebook_prom_1 ... \n",
      "\u001b[2BRemoving network ha-boxkite-notebook_defaulte\u001b[0m\n"
     ]
    }
   ],
   "source": [
    "!docker-compose down\n",
    "\n",
    "!docker image rm grafana/grafana:7.5.3\n",
    "!docker image rm prom/prometheus:v2.26.0\n",
    "!docker image rm ha-boxkite-notebook_app"
   ]
  },
  {
   "cell_type": "markdown",
   "metadata": {},
   "source": [
    "## Serve a diabetes model with HA"
   ]
  },
  {
   "cell_type": "markdown",
   "metadata": {},
   "source": [
    "Start kubernetes on MacOS in a pseudo-distributed mode."
   ]
  },
  {
   "cell_type": "code",
   "execution_count": 41,
   "metadata": {},
   "outputs": [
    {
     "name": "stdout",
     "output_type": "stream",
     "text": [
      "😄  minikube v1.23.0 on Darwin 12.0.1\n",
      "✨  Using the docker driver based on existing profile\n",
      "👍  Starting control plane node minikube in cluster minikube\n",
      "🚜  Pulling base image ...\n",
      "🔄  Restarting existing docker container for \"minikube\" ...\n",
      "🐳  Preparing Kubernetes v1.22.1 on Docker 20.10.8 ...\u001b[K\u001b[K\u001b[K\u001b[K\u001b[K\u001b[K\u001b[K\u001b[K\u001b[K\u001b[K\u001b[K\u001b[K\u001b[K\u001b[K\u001b[K\u001b[K\u001b[K\u001b[K\u001b[K\u001b[K\u001b[K\u001b[K\u001b[K\u001b[K\u001b[K\u001b[K\u001b[K\u001b[K\u001b[K\u001b[K\u001b[K\u001b[K\u001b[K\u001b[K\u001b[K\u001b[K\u001b[K\u001b[K\u001b[K\u001b[K\u001b[K\u001b[K\u001b[K\u001b[K\u001b[K\u001b[K\u001b[K\u001b[K\u001b[K\u001b[K\u001b[K\u001b[K\u001b[K\u001b[K\u001b[K\u001b[K\u001b[K\u001b[K\u001b[K\u001b[K\u001b[K\u001b[K\u001b[K\u001b[K\u001b[K\u001b[K\u001b[K\u001b[K\u001b[K\u001b[K\u001b[K\u001b[K\u001b[K\u001b[K\u001b[K\u001b[K\u001b[K\u001b[K\u001b[K\u001b[K\u001b[K\u001b[K\u001b[K\u001b[K\u001b[K\u001b[K\u001b[K\u001b[K\u001b[K\u001b[K\u001b[K\u001b[K\u001b[K\u001b[K\u001b[K\u001b[K\u001b[K\u001b[K\u001b[K\u001b[K\u001b[K\u001b[K\u001b[K\u001b[K\u001b[K\u001b[K\u001b[K\u001b[K\u001b[K\u001b[K\u001b[K\u001b[K\u001b[K\u001b[K\u001b[K\u001b[K\u001b[K\u001b[K\u001b[K\u001b[K\u001b[K\u001b[K\u001b[K\u001b[K\u001b[K\u001b[K\u001b[K\u001b[K\u001b[K\u001b[K\u001b[K\u001b[K\u001b[K\u001b[K\u001b[K\u001b[K\u001b[K\u001b[K\u001b[K\u001b[K\u001b[K\u001b[K\u001b[K\u001b[K\u001b[K\u001b[K\u001b[K\u001b[K\u001b[K\u001b[K\u001b[K\u001b[K\u001b[K\u001b[K\u001b[K\u001b[K\u001b[K\u001b[K\u001b[K\u001b[K\u001b[K\u001b[K\u001b[K\u001b[K\u001b[K\u001b[K\u001b[K\u001b[K\u001b[K\u001b[K\u001b[K\u001b[K\u001b[K\u001b[K\u001b[K\u001b[K\u001b[K\u001b[K\u001b[K\u001b[K\u001b[K\u001b[K\u001b[K\u001b[K\u001b[K\u001b[K\u001b[K\u001b[K\u001b[K\u001b[K\u001b[K\u001b[K\u001b[K\u001b[K\u001b[K\u001b[K\u001b[K\u001b[K\u001b[K\u001b[K\u001b[K\u001b[K\u001b[K\u001b[K\u001b[K\u001b[K\u001b[K\u001b[K\u001b[K\u001b[K\u001b[K\u001b[K\u001b[K\u001b[K\u001b[K\u001b[K\u001b[K\u001b[K\u001b[K\u001b[K\u001b[K\u001b[K\u001b[K\u001b[K\u001b[K\u001b[K\u001b[K\u001b[K\u001b[K\u001b[K\u001b[K\u001b[K\u001b[K\u001b[K\u001b[K\u001b[K\u001b[K\u001b[K\u001b[K\u001b[K\u001b[K\u001b[K\u001b[K\u001b[K\u001b[K\u001b[K\u001b[K\u001b[K\u001b[K\u001b[K\u001b[K\u001b[K\u001b[K\u001b[K\u001b[K\u001b[K\u001b[K\u001b[K\u001b[K\u001b[K\u001b[K\u001b[K\u001b[K\u001b[K\u001b[K\u001b[K\u001b[K\u001b[K\u001b[K\u001b[K\u001b[K\u001b[K\u001b[K\u001b[K\u001b[K\u001b[K\u001b[K\u001b[K\u001b[K\u001b[K\u001b[K\u001b[K\u001b[K\u001b[K\u001b[K\u001b[K\u001b[K\u001b[K\u001b[K\u001b[K\u001b[K\u001b[K\u001b[K\u001b[K\u001b[K\u001b[K\u001b[K\u001b[K\u001b[K\u001b[K\u001b[K\u001b[K\u001b[K\u001b[K\u001b[K\u001b[K\u001b[K\u001b[K\u001b[K\u001b[K\u001b[K\u001b[K\u001b[K\u001b[K\u001b[K\u001b[K\u001b[K\u001b[K\u001b[K\u001b[K\u001b[K\u001b[K\u001b[K\u001b[K\u001b[K\u001b[K\u001b[K\u001b[K\u001b[K\u001b[K\u001b[K\u001b[K\u001b[K\u001b[K\u001b[K\u001b[K\u001b[K\u001b[K\u001b[K\u001b[K\u001b[K\u001b[K\u001b[K\u001b[K\u001b[K\u001b[K\u001b[K\u001b[K\u001b[K\u001b[K\u001b[K\u001b[K\u001b[K\u001b[K\u001b[K\u001b[K\u001b[K\u001b[K\u001b[K\u001b[K\u001b[K\u001b[K\u001b[K\u001b[K\u001b[K\u001b[K\u001b[K\u001b[K\u001b[K\u001b[K\u001b[K\u001b[K\u001b[K\u001b[K\u001b[K\u001b[K\u001b[K\u001b[K\u001b[K\u001b[K\u001b[K\u001b[K\u001b[K\u001b[K\u001b[K\u001b[K\u001b[K\u001b[K\u001b[K\u001b[K\u001b[K\u001b[K\u001b[K\u001b[K\u001b[K\u001b[K\u001b[K\u001b[K\u001b[K\u001b[K\u001b[K\u001b[K\u001b[K\u001b[K\u001b[K\u001b[K\u001b[K\u001b[K\u001b[K\u001b[K\u001b[K\u001b[K\u001b[K\u001b[K\u001b[K\u001b[K\n",
      "🔎  Verifying Kubernetes components...\n",
      "    ▪ Using image gcr.io/k8s-minikube/storage-provisioner:v5\n",
      "🌟  Enabled addons: storage-provisioner, default-storageclass\n",
      "🏄  Done! kubectl is now configured to use \"minikube\" cluster and \"default\" namespace by default\n"
     ]
    }
   ],
   "source": [
    "!minikube start"
   ]
  },
  {
   "cell_type": "markdown",
   "metadata": {},
   "source": [
    "By deployment.yml, spring up three app servers, each of which has model.pkl and histogram.txt already baked in the image."
   ]
  },
  {
   "cell_type": "code",
   "execution_count": 48,
   "metadata": {},
   "outputs": [
    {
     "name": "stdout",
     "output_type": "stream",
     "text": [
      "apiVersion: apps/v1\r\n",
      "kind: Deployment\r\n",
      "metadata:\r\n",
      "  name: ml-deployment\r\n",
      "  labels:\r\n",
      "    app: ml-server\r\n",
      "spec:\r\n",
      "  replicas: 3\r\n",
      "  selector:\r\n",
      "    matchLabels:\r\n",
      "      app: ml-server\r\n",
      "  template:\r\n",
      "    metadata:\r\n",
      "      labels:\r\n",
      "        app: ml-server\r\n",
      "      annotations:\r\n",
      "        prometheus.io/scrape: \"true\"\r\n",
      "    spec:\r\n",
      "#      volumes:\r\n",
      "#        - name: task-pv-storage\r\n",
      "#          persistentVolumeClaim:\r\n",
      "#            claimName: task-pv-claim\r\n",
      "      containers:\r\n",
      "        - name: ml-server\r\n",
      "          image: tintinrevient/boxkite-app\r\n",
      "          ports:\r\n",
      "            - containerPort: 5000\r\n",
      "#          volumeMounts:\r\n",
      "#            - mountPath: \"/app\"\r\n",
      "#              name: task-pv-storage\r\n"
     ]
    }
   ],
   "source": [
    "!cat deployment/deployment.yml"
   ]
  },
  {
   "cell_type": "code",
   "execution_count": 50,
   "metadata": {},
   "outputs": [
    {
     "name": "stdout",
     "output_type": "stream",
     "text": [
      "deployment.apps/ml-deployment created\r\n"
     ]
    }
   ],
   "source": [
    "!kubectl apply -f deployment/deployment.yml"
   ]
  },
  {
   "cell_type": "code",
   "execution_count": 51,
   "metadata": {},
   "outputs": [
    {
     "name": "stdout",
     "output_type": "stream",
     "text": [
      "NAME            READY   UP-TO-DATE   AVAILABLE   AGE\r\n",
      "ml-deployment   3/3     3            3           16s\r\n"
     ]
    }
   ],
   "source": [
    "!kubectl get deployment"
   ]
  },
  {
   "cell_type": "code",
   "execution_count": 52,
   "metadata": {},
   "outputs": [
    {
     "name": "stdout",
     "output_type": "stream",
     "text": [
      "deployment \"ml-deployment\" successfully rolled out\r\n"
     ]
    }
   ],
   "source": [
    "!kubectl rollout status deployment/ml-deployment"
   ]
  },
  {
   "cell_type": "code",
   "execution_count": 53,
   "metadata": {},
   "outputs": [
    {
     "name": "stdout",
     "output_type": "stream",
     "text": [
      "NAME                             READY   STATUS    RESTARTS   AGE\r\n",
      "ml-deployment-6bb5867688-9f4s2   1/1     Running   0          20s\r\n",
      "ml-deployment-6bb5867688-mlz25   1/1     Running   0          20s\r\n",
      "ml-deployment-6bb5867688-mp9w7   1/1     Running   0          20s\r\n"
     ]
    }
   ],
   "source": [
    "!kubectl get pods"
   ]
  },
  {
   "cell_type": "code",
   "execution_count": 54,
   "metadata": {},
   "outputs": [
    {
     "name": "stdout",
     "output_type": "stream",
     "text": [
      "service/ml-deployment exposed\r\n"
     ]
    }
   ],
   "source": [
    "!kubectl expose deployment ml-deployment --port=5000 --type=NodePort"
   ]
  },
  {
   "cell_type": "code",
   "execution_count": 55,
   "metadata": {},
   "outputs": [
    {
     "name": "stdout",
     "output_type": "stream",
     "text": [
      "Name:                     ml-deployment\r\n",
      "Namespace:                default\r\n",
      "Labels:                   app=ml-server\r\n",
      "Annotations:              <none>\r\n",
      "Selector:                 app=ml-server\r\n",
      "Type:                     NodePort\r\n",
      "IP Family Policy:         SingleStack\r\n",
      "IP Families:              IPv4\r\n",
      "IP:                       10.104.27.43\r\n",
      "IPs:                      10.104.27.43\r\n",
      "Port:                     <unset>  5000/TCP\r\n",
      "TargetPort:               5000/TCP\r\n",
      "NodePort:                 <unset>  32408/TCP\r\n",
      "Endpoints:                172.17.0.3:5000,172.17.0.4:5000,172.17.0.5:5000\r\n",
      "Session Affinity:         None\r\n",
      "External Traffic Policy:  Cluster\r\n",
      "Events:                   <none>\r\n"
     ]
    }
   ],
   "source": [
    "!kubectl describe svc ml-deployment"
   ]
  },
  {
   "cell_type": "markdown",
   "metadata": {},
   "source": [
    "Start the load balancer by minikube on MacOS. By stopping the server, tap \"i\" twice in the below console."
   ]
  },
  {
   "cell_type": "code",
   "execution_count": 56,
   "metadata": {},
   "outputs": [
    {
     "name": "stdout",
     "output_type": "stream",
     "text": [
      "|-----------|---------------|-------------|---------------------------|\n",
      "| NAMESPACE |     NAME      | TARGET PORT |            URL            |\n",
      "|-----------|---------------|-------------|---------------------------|\n",
      "| default   | ml-deployment |        5000 | http://192.168.49.2:32408 |\n",
      "|-----------|---------------|-------------|---------------------------|\n",
      "🏃  Starting tunnel for service ml-deployment.\n",
      "|-----------|---------------|-------------|------------------------|\n",
      "| NAMESPACE |     NAME      | TARGET PORT |          URL           |\n",
      "|-----------|---------------|-------------|------------------------|\n",
      "| default   | ml-deployment |             | http://127.0.0.1:63654 |\n",
      "|-----------|---------------|-------------|------------------------|\n",
      "🎉  Opening service default/ml-deployment in default browser...\n",
      "❗  Because you are using a Docker driver on darwin, the terminal needs to be open to run it.\n",
      "^C\n",
      "✋  Stopping tunnel for service ml-deployment.\n",
      "\n",
      "❌  Exiting due to SVC_TUNNEL_STOP: stopping ssh tunnel: os: process already finished\n",
      "\n",
      "\u001b[31m╭──────────────────────────────────────────────────────────────────────────────────────────────────────────────────────────╮\u001b[0m\n",
      "\u001b[31m│\u001b[0m                                                                                                                          \u001b[31m│\u001b[0m\n",
      "\u001b[31m│\u001b[0m    😿  If the above advice does not help, please let us know:                                                            \u001b[31m│\u001b[0m\n",
      "\u001b[31m│\u001b[0m    👉  https://github.com/kubernetes/minikube/issues/new/choose                                                          \u001b[31m│\u001b[0m\n",
      "\u001b[31m│\u001b[0m                                                                                                                          \u001b[31m│\u001b[0m\n",
      "\u001b[31m│\u001b[0m    Please run `minikube logs --file=logs.txt` and attach logs.txt to the GitHub issue.                                   \u001b[31m│\u001b[0m\n",
      "\u001b[31m│\u001b[0m    Please also attach the following file to the GitHub issue:                                                            \u001b[31m│\u001b[0m\n",
      "\u001b[31m│\u001b[0m    - /var/folders/bb/5k35pwt91qzgbkyqkksh6rm00000gn/T/minikube_service_cffd7cad8100c903ed87a375aa7ba019ae884cb0_0.log    \u001b[31m│\u001b[0m\n",
      "\u001b[31m│\u001b[0m                                                                                                                          \u001b[31m│\u001b[0m\n",
      "\u001b[31m╰──────────────────────────────────────────────────────────────────────────────────────────────────────────────────────────╯\u001b[0m\n",
      "\n"
     ]
    }
   ],
   "source": [
    "!minikube service ml-deployment"
   ]
  },
  {
   "cell_type": "markdown",
   "metadata": {},
   "source": [
    "Generate the dummy traffic as done before, only with the port number modified as referenced above."
   ]
  },
  {
   "cell_type": "code",
   "execution_count": 58,
   "metadata": {},
   "outputs": [
    {
     "ename": "ConnectionError",
     "evalue": "HTTPConnectionPool(host='localhost', port=63654): Max retries exceeded with url: / (Caused by NewConnectionError('<urllib3.connection.HTTPConnection object at 0x7fa7c2935970>: Failed to establish a new connection: [Errno 61] Connection refused'))",
     "output_type": "error",
     "traceback": [
      "\u001b[0;31m---------------------------------------------------------------------------\u001b[0m",
      "\u001b[0;31mConnectionRefusedError\u001b[0m                    Traceback (most recent call last)",
      "\u001b[0;32m~/Documents/workspace/boxkite/boxkite_example/venv/lib/python3.8/site-packages/urllib3/connection.py\u001b[0m in \u001b[0;36m_new_conn\u001b[0;34m(self)\u001b[0m\n\u001b[1;32m    173\u001b[0m         \u001b[0;32mtry\u001b[0m\u001b[0;34m:\u001b[0m\u001b[0;34m\u001b[0m\u001b[0;34m\u001b[0m\u001b[0m\n\u001b[0;32m--> 174\u001b[0;31m             conn = connection.create_connection(\n\u001b[0m\u001b[1;32m    175\u001b[0m                 \u001b[0;34m(\u001b[0m\u001b[0mself\u001b[0m\u001b[0;34m.\u001b[0m\u001b[0m_dns_host\u001b[0m\u001b[0;34m,\u001b[0m \u001b[0mself\u001b[0m\u001b[0;34m.\u001b[0m\u001b[0mport\u001b[0m\u001b[0;34m)\u001b[0m\u001b[0;34m,\u001b[0m \u001b[0mself\u001b[0m\u001b[0;34m.\u001b[0m\u001b[0mtimeout\u001b[0m\u001b[0;34m,\u001b[0m \u001b[0;34m**\u001b[0m\u001b[0mextra_kw\u001b[0m\u001b[0;34m\u001b[0m\u001b[0;34m\u001b[0m\u001b[0m\n",
      "\u001b[0;32m~/Documents/workspace/boxkite/boxkite_example/venv/lib/python3.8/site-packages/urllib3/util/connection.py\u001b[0m in \u001b[0;36mcreate_connection\u001b[0;34m(address, timeout, source_address, socket_options)\u001b[0m\n\u001b[1;32m     95\u001b[0m     \u001b[0;32mif\u001b[0m \u001b[0merr\u001b[0m \u001b[0;32mis\u001b[0m \u001b[0;32mnot\u001b[0m \u001b[0;32mNone\u001b[0m\u001b[0;34m:\u001b[0m\u001b[0;34m\u001b[0m\u001b[0;34m\u001b[0m\u001b[0m\n\u001b[0;32m---> 96\u001b[0;31m         \u001b[0;32mraise\u001b[0m \u001b[0merr\u001b[0m\u001b[0;34m\u001b[0m\u001b[0;34m\u001b[0m\u001b[0m\n\u001b[0m\u001b[1;32m     97\u001b[0m \u001b[0;34m\u001b[0m\u001b[0m\n",
      "\u001b[0;32m~/Documents/workspace/boxkite/boxkite_example/venv/lib/python3.8/site-packages/urllib3/util/connection.py\u001b[0m in \u001b[0;36mcreate_connection\u001b[0;34m(address, timeout, source_address, socket_options)\u001b[0m\n\u001b[1;32m     85\u001b[0m                 \u001b[0msock\u001b[0m\u001b[0;34m.\u001b[0m\u001b[0mbind\u001b[0m\u001b[0;34m(\u001b[0m\u001b[0msource_address\u001b[0m\u001b[0;34m)\u001b[0m\u001b[0;34m\u001b[0m\u001b[0;34m\u001b[0m\u001b[0m\n\u001b[0;32m---> 86\u001b[0;31m             \u001b[0msock\u001b[0m\u001b[0;34m.\u001b[0m\u001b[0mconnect\u001b[0m\u001b[0;34m(\u001b[0m\u001b[0msa\u001b[0m\u001b[0;34m)\u001b[0m\u001b[0;34m\u001b[0m\u001b[0;34m\u001b[0m\u001b[0m\n\u001b[0m\u001b[1;32m     87\u001b[0m             \u001b[0;32mreturn\u001b[0m \u001b[0msock\u001b[0m\u001b[0;34m\u001b[0m\u001b[0;34m\u001b[0m\u001b[0m\n",
      "\u001b[0;31mConnectionRefusedError\u001b[0m: [Errno 61] Connection refused",
      "\nDuring handling of the above exception, another exception occurred:\n",
      "\u001b[0;31mNewConnectionError\u001b[0m                        Traceback (most recent call last)",
      "\u001b[0;32m~/Documents/workspace/boxkite/boxkite_example/venv/lib/python3.8/site-packages/urllib3/connectionpool.py\u001b[0m in \u001b[0;36murlopen\u001b[0;34m(self, method, url, body, headers, retries, redirect, assert_same_host, timeout, pool_timeout, release_conn, chunked, body_pos, **response_kw)\u001b[0m\n\u001b[1;32m    698\u001b[0m             \u001b[0;31m# Make the request on the httplib connection object.\u001b[0m\u001b[0;34m\u001b[0m\u001b[0;34m\u001b[0m\u001b[0;34m\u001b[0m\u001b[0m\n\u001b[0;32m--> 699\u001b[0;31m             httplib_response = self._make_request(\n\u001b[0m\u001b[1;32m    700\u001b[0m                 \u001b[0mconn\u001b[0m\u001b[0;34m,\u001b[0m\u001b[0;34m\u001b[0m\u001b[0;34m\u001b[0m\u001b[0m\n",
      "\u001b[0;32m~/Documents/workspace/boxkite/boxkite_example/venv/lib/python3.8/site-packages/urllib3/connectionpool.py\u001b[0m in \u001b[0;36m_make_request\u001b[0;34m(self, conn, method, url, timeout, chunked, **httplib_request_kw)\u001b[0m\n\u001b[1;32m    393\u001b[0m             \u001b[0;32melse\u001b[0m\u001b[0;34m:\u001b[0m\u001b[0;34m\u001b[0m\u001b[0;34m\u001b[0m\u001b[0m\n\u001b[0;32m--> 394\u001b[0;31m                 \u001b[0mconn\u001b[0m\u001b[0;34m.\u001b[0m\u001b[0mrequest\u001b[0m\u001b[0;34m(\u001b[0m\u001b[0mmethod\u001b[0m\u001b[0;34m,\u001b[0m \u001b[0murl\u001b[0m\u001b[0;34m,\u001b[0m \u001b[0;34m**\u001b[0m\u001b[0mhttplib_request_kw\u001b[0m\u001b[0;34m)\u001b[0m\u001b[0;34m\u001b[0m\u001b[0;34m\u001b[0m\u001b[0m\n\u001b[0m\u001b[1;32m    395\u001b[0m \u001b[0;34m\u001b[0m\u001b[0m\n",
      "\u001b[0;32m~/Documents/workspace/boxkite/boxkite_example/venv/lib/python3.8/site-packages/urllib3/connection.py\u001b[0m in \u001b[0;36mrequest\u001b[0;34m(self, method, url, body, headers)\u001b[0m\n\u001b[1;32m    238\u001b[0m             \u001b[0mheaders\u001b[0m\u001b[0;34m[\u001b[0m\u001b[0;34m\"User-Agent\"\u001b[0m\u001b[0;34m]\u001b[0m \u001b[0;34m=\u001b[0m \u001b[0m_get_default_user_agent\u001b[0m\u001b[0;34m(\u001b[0m\u001b[0;34m)\u001b[0m\u001b[0;34m\u001b[0m\u001b[0;34m\u001b[0m\u001b[0m\n\u001b[0;32m--> 239\u001b[0;31m         \u001b[0msuper\u001b[0m\u001b[0;34m(\u001b[0m\u001b[0mHTTPConnection\u001b[0m\u001b[0;34m,\u001b[0m \u001b[0mself\u001b[0m\u001b[0;34m)\u001b[0m\u001b[0;34m.\u001b[0m\u001b[0mrequest\u001b[0m\u001b[0;34m(\u001b[0m\u001b[0mmethod\u001b[0m\u001b[0;34m,\u001b[0m \u001b[0murl\u001b[0m\u001b[0;34m,\u001b[0m \u001b[0mbody\u001b[0m\u001b[0;34m=\u001b[0m\u001b[0mbody\u001b[0m\u001b[0;34m,\u001b[0m \u001b[0mheaders\u001b[0m\u001b[0;34m=\u001b[0m\u001b[0mheaders\u001b[0m\u001b[0;34m)\u001b[0m\u001b[0;34m\u001b[0m\u001b[0;34m\u001b[0m\u001b[0m\n\u001b[0m\u001b[1;32m    240\u001b[0m \u001b[0;34m\u001b[0m\u001b[0m\n",
      "\u001b[0;32m/opt/anaconda3/lib/python3.8/http/client.py\u001b[0m in \u001b[0;36mrequest\u001b[0;34m(self, method, url, body, headers, encode_chunked)\u001b[0m\n\u001b[1;32m   1254\u001b[0m         \u001b[0;34m\"\"\"Send a complete request to the server.\"\"\"\u001b[0m\u001b[0;34m\u001b[0m\u001b[0;34m\u001b[0m\u001b[0m\n\u001b[0;32m-> 1255\u001b[0;31m         \u001b[0mself\u001b[0m\u001b[0;34m.\u001b[0m\u001b[0m_send_request\u001b[0m\u001b[0;34m(\u001b[0m\u001b[0mmethod\u001b[0m\u001b[0;34m,\u001b[0m \u001b[0murl\u001b[0m\u001b[0;34m,\u001b[0m \u001b[0mbody\u001b[0m\u001b[0;34m,\u001b[0m \u001b[0mheaders\u001b[0m\u001b[0;34m,\u001b[0m \u001b[0mencode_chunked\u001b[0m\u001b[0;34m)\u001b[0m\u001b[0;34m\u001b[0m\u001b[0;34m\u001b[0m\u001b[0m\n\u001b[0m\u001b[1;32m   1256\u001b[0m \u001b[0;34m\u001b[0m\u001b[0m\n",
      "\u001b[0;32m/opt/anaconda3/lib/python3.8/http/client.py\u001b[0m in \u001b[0;36m_send_request\u001b[0;34m(self, method, url, body, headers, encode_chunked)\u001b[0m\n\u001b[1;32m   1300\u001b[0m             \u001b[0mbody\u001b[0m \u001b[0;34m=\u001b[0m \u001b[0m_encode\u001b[0m\u001b[0;34m(\u001b[0m\u001b[0mbody\u001b[0m\u001b[0;34m,\u001b[0m \u001b[0;34m'body'\u001b[0m\u001b[0;34m)\u001b[0m\u001b[0;34m\u001b[0m\u001b[0;34m\u001b[0m\u001b[0m\n\u001b[0;32m-> 1301\u001b[0;31m         \u001b[0mself\u001b[0m\u001b[0;34m.\u001b[0m\u001b[0mendheaders\u001b[0m\u001b[0;34m(\u001b[0m\u001b[0mbody\u001b[0m\u001b[0;34m,\u001b[0m \u001b[0mencode_chunked\u001b[0m\u001b[0;34m=\u001b[0m\u001b[0mencode_chunked\u001b[0m\u001b[0;34m)\u001b[0m\u001b[0;34m\u001b[0m\u001b[0;34m\u001b[0m\u001b[0m\n\u001b[0m\u001b[1;32m   1302\u001b[0m \u001b[0;34m\u001b[0m\u001b[0m\n",
      "\u001b[0;32m/opt/anaconda3/lib/python3.8/http/client.py\u001b[0m in \u001b[0;36mendheaders\u001b[0;34m(self, message_body, encode_chunked)\u001b[0m\n\u001b[1;32m   1249\u001b[0m             \u001b[0;32mraise\u001b[0m \u001b[0mCannotSendHeader\u001b[0m\u001b[0;34m(\u001b[0m\u001b[0;34m)\u001b[0m\u001b[0;34m\u001b[0m\u001b[0;34m\u001b[0m\u001b[0m\n\u001b[0;32m-> 1250\u001b[0;31m         \u001b[0mself\u001b[0m\u001b[0;34m.\u001b[0m\u001b[0m_send_output\u001b[0m\u001b[0;34m(\u001b[0m\u001b[0mmessage_body\u001b[0m\u001b[0;34m,\u001b[0m \u001b[0mencode_chunked\u001b[0m\u001b[0;34m=\u001b[0m\u001b[0mencode_chunked\u001b[0m\u001b[0;34m)\u001b[0m\u001b[0;34m\u001b[0m\u001b[0;34m\u001b[0m\u001b[0m\n\u001b[0m\u001b[1;32m   1251\u001b[0m \u001b[0;34m\u001b[0m\u001b[0m\n",
      "\u001b[0;32m/opt/anaconda3/lib/python3.8/http/client.py\u001b[0m in \u001b[0;36m_send_output\u001b[0;34m(self, message_body, encode_chunked)\u001b[0m\n\u001b[1;32m   1009\u001b[0m         \u001b[0;32mdel\u001b[0m \u001b[0mself\u001b[0m\u001b[0;34m.\u001b[0m\u001b[0m_buffer\u001b[0m\u001b[0;34m[\u001b[0m\u001b[0;34m:\u001b[0m\u001b[0;34m]\u001b[0m\u001b[0;34m\u001b[0m\u001b[0;34m\u001b[0m\u001b[0m\n\u001b[0;32m-> 1010\u001b[0;31m         \u001b[0mself\u001b[0m\u001b[0;34m.\u001b[0m\u001b[0msend\u001b[0m\u001b[0;34m(\u001b[0m\u001b[0mmsg\u001b[0m\u001b[0;34m)\u001b[0m\u001b[0;34m\u001b[0m\u001b[0;34m\u001b[0m\u001b[0m\n\u001b[0m\u001b[1;32m   1011\u001b[0m \u001b[0;34m\u001b[0m\u001b[0m\n",
      "\u001b[0;32m/opt/anaconda3/lib/python3.8/http/client.py\u001b[0m in \u001b[0;36msend\u001b[0;34m(self, data)\u001b[0m\n\u001b[1;32m    949\u001b[0m             \u001b[0;32mif\u001b[0m \u001b[0mself\u001b[0m\u001b[0;34m.\u001b[0m\u001b[0mauto_open\u001b[0m\u001b[0;34m:\u001b[0m\u001b[0;34m\u001b[0m\u001b[0;34m\u001b[0m\u001b[0m\n\u001b[0;32m--> 950\u001b[0;31m                 \u001b[0mself\u001b[0m\u001b[0;34m.\u001b[0m\u001b[0mconnect\u001b[0m\u001b[0;34m(\u001b[0m\u001b[0;34m)\u001b[0m\u001b[0;34m\u001b[0m\u001b[0;34m\u001b[0m\u001b[0m\n\u001b[0m\u001b[1;32m    951\u001b[0m             \u001b[0;32melse\u001b[0m\u001b[0;34m:\u001b[0m\u001b[0;34m\u001b[0m\u001b[0;34m\u001b[0m\u001b[0m\n",
      "\u001b[0;32m~/Documents/workspace/boxkite/boxkite_example/venv/lib/python3.8/site-packages/urllib3/connection.py\u001b[0m in \u001b[0;36mconnect\u001b[0;34m(self)\u001b[0m\n\u001b[1;32m    204\u001b[0m     \u001b[0;32mdef\u001b[0m \u001b[0mconnect\u001b[0m\u001b[0;34m(\u001b[0m\u001b[0mself\u001b[0m\u001b[0;34m)\u001b[0m\u001b[0;34m:\u001b[0m\u001b[0;34m\u001b[0m\u001b[0;34m\u001b[0m\u001b[0m\n\u001b[0;32m--> 205\u001b[0;31m         \u001b[0mconn\u001b[0m \u001b[0;34m=\u001b[0m \u001b[0mself\u001b[0m\u001b[0;34m.\u001b[0m\u001b[0m_new_conn\u001b[0m\u001b[0;34m(\u001b[0m\u001b[0;34m)\u001b[0m\u001b[0;34m\u001b[0m\u001b[0;34m\u001b[0m\u001b[0m\n\u001b[0m\u001b[1;32m    206\u001b[0m         \u001b[0mself\u001b[0m\u001b[0;34m.\u001b[0m\u001b[0m_prepare_conn\u001b[0m\u001b[0;34m(\u001b[0m\u001b[0mconn\u001b[0m\u001b[0;34m)\u001b[0m\u001b[0;34m\u001b[0m\u001b[0;34m\u001b[0m\u001b[0m\n",
      "\u001b[0;32m~/Documents/workspace/boxkite/boxkite_example/venv/lib/python3.8/site-packages/urllib3/connection.py\u001b[0m in \u001b[0;36m_new_conn\u001b[0;34m(self)\u001b[0m\n\u001b[1;32m    185\u001b[0m         \u001b[0;32mexcept\u001b[0m \u001b[0mSocketError\u001b[0m \u001b[0;32mas\u001b[0m \u001b[0me\u001b[0m\u001b[0;34m:\u001b[0m\u001b[0;34m\u001b[0m\u001b[0;34m\u001b[0m\u001b[0m\n\u001b[0;32m--> 186\u001b[0;31m             raise NewConnectionError(\n\u001b[0m\u001b[1;32m    187\u001b[0m                 \u001b[0mself\u001b[0m\u001b[0;34m,\u001b[0m \u001b[0;34m\"Failed to establish a new connection: %s\"\u001b[0m \u001b[0;34m%\u001b[0m \u001b[0me\u001b[0m\u001b[0;34m\u001b[0m\u001b[0;34m\u001b[0m\u001b[0m\n",
      "\u001b[0;31mNewConnectionError\u001b[0m: <urllib3.connection.HTTPConnection object at 0x7fa7c2935970>: Failed to establish a new connection: [Errno 61] Connection refused",
      "\nDuring handling of the above exception, another exception occurred:\n",
      "\u001b[0;31mMaxRetryError\u001b[0m                             Traceback (most recent call last)",
      "\u001b[0;32m~/Documents/workspace/boxkite/boxkite_example/venv/lib/python3.8/site-packages/requests/adapters.py\u001b[0m in \u001b[0;36msend\u001b[0;34m(self, request, stream, timeout, verify, cert, proxies)\u001b[0m\n\u001b[1;32m    438\u001b[0m             \u001b[0;32mif\u001b[0m \u001b[0;32mnot\u001b[0m \u001b[0mchunked\u001b[0m\u001b[0;34m:\u001b[0m\u001b[0;34m\u001b[0m\u001b[0;34m\u001b[0m\u001b[0m\n\u001b[0;32m--> 439\u001b[0;31m                 resp = conn.urlopen(\n\u001b[0m\u001b[1;32m    440\u001b[0m                     \u001b[0mmethod\u001b[0m\u001b[0;34m=\u001b[0m\u001b[0mrequest\u001b[0m\u001b[0;34m.\u001b[0m\u001b[0mmethod\u001b[0m\u001b[0;34m,\u001b[0m\u001b[0;34m\u001b[0m\u001b[0;34m\u001b[0m\u001b[0m\n",
      "\u001b[0;32m~/Documents/workspace/boxkite/boxkite_example/venv/lib/python3.8/site-packages/urllib3/connectionpool.py\u001b[0m in \u001b[0;36murlopen\u001b[0;34m(self, method, url, body, headers, retries, redirect, assert_same_host, timeout, pool_timeout, release_conn, chunked, body_pos, **response_kw)\u001b[0m\n\u001b[1;32m    754\u001b[0m \u001b[0;34m\u001b[0m\u001b[0m\n\u001b[0;32m--> 755\u001b[0;31m             retries = retries.increment(\n\u001b[0m\u001b[1;32m    756\u001b[0m                 \u001b[0mmethod\u001b[0m\u001b[0;34m,\u001b[0m \u001b[0murl\u001b[0m\u001b[0;34m,\u001b[0m \u001b[0merror\u001b[0m\u001b[0;34m=\u001b[0m\u001b[0me\u001b[0m\u001b[0;34m,\u001b[0m \u001b[0m_pool\u001b[0m\u001b[0;34m=\u001b[0m\u001b[0mself\u001b[0m\u001b[0;34m,\u001b[0m \u001b[0m_stacktrace\u001b[0m\u001b[0;34m=\u001b[0m\u001b[0msys\u001b[0m\u001b[0;34m.\u001b[0m\u001b[0mexc_info\u001b[0m\u001b[0;34m(\u001b[0m\u001b[0;34m)\u001b[0m\u001b[0;34m[\u001b[0m\u001b[0;36m2\u001b[0m\u001b[0;34m]\u001b[0m\u001b[0;34m\u001b[0m\u001b[0;34m\u001b[0m\u001b[0m\n",
      "\u001b[0;32m~/Documents/workspace/boxkite/boxkite_example/venv/lib/python3.8/site-packages/urllib3/util/retry.py\u001b[0m in \u001b[0;36mincrement\u001b[0;34m(self, method, url, response, error, _pool, _stacktrace)\u001b[0m\n\u001b[1;32m    573\u001b[0m         \u001b[0;32mif\u001b[0m \u001b[0mnew_retry\u001b[0m\u001b[0;34m.\u001b[0m\u001b[0mis_exhausted\u001b[0m\u001b[0;34m(\u001b[0m\u001b[0;34m)\u001b[0m\u001b[0;34m:\u001b[0m\u001b[0;34m\u001b[0m\u001b[0;34m\u001b[0m\u001b[0m\n\u001b[0;32m--> 574\u001b[0;31m             \u001b[0;32mraise\u001b[0m \u001b[0mMaxRetryError\u001b[0m\u001b[0;34m(\u001b[0m\u001b[0m_pool\u001b[0m\u001b[0;34m,\u001b[0m \u001b[0murl\u001b[0m\u001b[0;34m,\u001b[0m \u001b[0merror\u001b[0m \u001b[0;32mor\u001b[0m \u001b[0mResponseError\u001b[0m\u001b[0;34m(\u001b[0m\u001b[0mcause\u001b[0m\u001b[0;34m)\u001b[0m\u001b[0;34m)\u001b[0m\u001b[0;34m\u001b[0m\u001b[0;34m\u001b[0m\u001b[0m\n\u001b[0m\u001b[1;32m    575\u001b[0m \u001b[0;34m\u001b[0m\u001b[0m\n",
      "\u001b[0;31mMaxRetryError\u001b[0m: HTTPConnectionPool(host='localhost', port=63654): Max retries exceeded with url: / (Caused by NewConnectionError('<urllib3.connection.HTTPConnection object at 0x7fa7c2935970>: Failed to establish a new connection: [Errno 61] Connection refused'))",
      "\nDuring handling of the above exception, another exception occurred:\n",
      "\u001b[0;31mConnectionError\u001b[0m                           Traceback (most recent call last)",
      "\u001b[0;32m/var/folders/bb/5k35pwt91qzgbkyqkksh6rm00000gn/T/ipykernel_21077/3620906186.py\u001b[0m in \u001b[0;36m<module>\u001b[0;34m\u001b[0m\n\u001b[1;32m      8\u001b[0m     \u001b[0;32mfor\u001b[0m \u001b[0mi\u001b[0m \u001b[0;32min\u001b[0m \u001b[0mrange\u001b[0m\u001b[0;34m(\u001b[0m\u001b[0;36m60\u001b[0m\u001b[0;34m)\u001b[0m\u001b[0;34m:\u001b[0m\u001b[0;34m\u001b[0m\u001b[0;34m\u001b[0m\u001b[0m\n\u001b[1;32m      9\u001b[0m         \u001b[0mdata\u001b[0m\u001b[0;34m[\u001b[0m\u001b[0;36m0\u001b[0m\u001b[0;34m]\u001b[0m \u001b[0;34m=\u001b[0m \u001b[0mgauss\u001b[0m\u001b[0;34m(\u001b[0m\u001b[0;36m6\u001b[0m\u001b[0;34m,\u001b[0m \u001b[0;36m2\u001b[0m\u001b[0;34m)\u001b[0m\u001b[0;34m\u001b[0m\u001b[0;34m\u001b[0m\u001b[0m\n\u001b[0;32m---> 10\u001b[0;31m         \u001b[0mresp\u001b[0m \u001b[0;34m=\u001b[0m \u001b[0ms\u001b[0m\u001b[0;34m.\u001b[0m\u001b[0mpost\u001b[0m\u001b[0;34m(\u001b[0m\u001b[0;34m\"http://localhost:63654\"\u001b[0m\u001b[0;34m,\u001b[0m \u001b[0mjson\u001b[0m\u001b[0;34m=\u001b[0m\u001b[0mdata\u001b[0m\u001b[0;34m)\u001b[0m\u001b[0;34m\u001b[0m\u001b[0;34m\u001b[0m\u001b[0m\n\u001b[0m\u001b[1;32m     11\u001b[0m         \u001b[0mresp\u001b[0m\u001b[0;34m.\u001b[0m\u001b[0mraise_for_status\u001b[0m\u001b[0;34m(\u001b[0m\u001b[0;34m)\u001b[0m\u001b[0;34m\u001b[0m\u001b[0;34m\u001b[0m\u001b[0m\n\u001b[1;32m     12\u001b[0m         \u001b[0;32mif\u001b[0m \u001b[0mi\u001b[0m \u001b[0;34m%\u001b[0m \u001b[0;36m10\u001b[0m \u001b[0;34m==\u001b[0m \u001b[0;36m0\u001b[0m\u001b[0;34m:\u001b[0m\u001b[0;34m\u001b[0m\u001b[0;34m\u001b[0m\u001b[0m\n",
      "\u001b[0;32m~/Documents/workspace/boxkite/boxkite_example/venv/lib/python3.8/site-packages/requests/sessions.py\u001b[0m in \u001b[0;36mpost\u001b[0;34m(self, url, data, json, **kwargs)\u001b[0m\n\u001b[1;32m    588\u001b[0m         \"\"\"\n\u001b[1;32m    589\u001b[0m \u001b[0;34m\u001b[0m\u001b[0m\n\u001b[0;32m--> 590\u001b[0;31m         \u001b[0;32mreturn\u001b[0m \u001b[0mself\u001b[0m\u001b[0;34m.\u001b[0m\u001b[0mrequest\u001b[0m\u001b[0;34m(\u001b[0m\u001b[0;34m'POST'\u001b[0m\u001b[0;34m,\u001b[0m \u001b[0murl\u001b[0m\u001b[0;34m,\u001b[0m \u001b[0mdata\u001b[0m\u001b[0;34m=\u001b[0m\u001b[0mdata\u001b[0m\u001b[0;34m,\u001b[0m \u001b[0mjson\u001b[0m\u001b[0;34m=\u001b[0m\u001b[0mjson\u001b[0m\u001b[0;34m,\u001b[0m \u001b[0;34m**\u001b[0m\u001b[0mkwargs\u001b[0m\u001b[0;34m)\u001b[0m\u001b[0;34m\u001b[0m\u001b[0;34m\u001b[0m\u001b[0m\n\u001b[0m\u001b[1;32m    591\u001b[0m \u001b[0;34m\u001b[0m\u001b[0m\n\u001b[1;32m    592\u001b[0m     \u001b[0;32mdef\u001b[0m \u001b[0mput\u001b[0m\u001b[0;34m(\u001b[0m\u001b[0mself\u001b[0m\u001b[0;34m,\u001b[0m \u001b[0murl\u001b[0m\u001b[0;34m,\u001b[0m \u001b[0mdata\u001b[0m\u001b[0;34m=\u001b[0m\u001b[0;32mNone\u001b[0m\u001b[0;34m,\u001b[0m \u001b[0;34m**\u001b[0m\u001b[0mkwargs\u001b[0m\u001b[0;34m)\u001b[0m\u001b[0;34m:\u001b[0m\u001b[0;34m\u001b[0m\u001b[0;34m\u001b[0m\u001b[0m\n",
      "\u001b[0;32m~/Documents/workspace/boxkite/boxkite_example/venv/lib/python3.8/site-packages/requests/sessions.py\u001b[0m in \u001b[0;36mrequest\u001b[0;34m(self, method, url, params, data, headers, cookies, files, auth, timeout, allow_redirects, proxies, hooks, stream, verify, cert, json)\u001b[0m\n\u001b[1;32m    540\u001b[0m         }\n\u001b[1;32m    541\u001b[0m         \u001b[0msend_kwargs\u001b[0m\u001b[0;34m.\u001b[0m\u001b[0mupdate\u001b[0m\u001b[0;34m(\u001b[0m\u001b[0msettings\u001b[0m\u001b[0;34m)\u001b[0m\u001b[0;34m\u001b[0m\u001b[0;34m\u001b[0m\u001b[0m\n\u001b[0;32m--> 542\u001b[0;31m         \u001b[0mresp\u001b[0m \u001b[0;34m=\u001b[0m \u001b[0mself\u001b[0m\u001b[0;34m.\u001b[0m\u001b[0msend\u001b[0m\u001b[0;34m(\u001b[0m\u001b[0mprep\u001b[0m\u001b[0;34m,\u001b[0m \u001b[0;34m**\u001b[0m\u001b[0msend_kwargs\u001b[0m\u001b[0;34m)\u001b[0m\u001b[0;34m\u001b[0m\u001b[0;34m\u001b[0m\u001b[0m\n\u001b[0m\u001b[1;32m    543\u001b[0m \u001b[0;34m\u001b[0m\u001b[0m\n\u001b[1;32m    544\u001b[0m         \u001b[0;32mreturn\u001b[0m \u001b[0mresp\u001b[0m\u001b[0;34m\u001b[0m\u001b[0;34m\u001b[0m\u001b[0m\n",
      "\u001b[0;32m~/Documents/workspace/boxkite/boxkite_example/venv/lib/python3.8/site-packages/requests/sessions.py\u001b[0m in \u001b[0;36msend\u001b[0;34m(self, request, **kwargs)\u001b[0m\n\u001b[1;32m    653\u001b[0m \u001b[0;34m\u001b[0m\u001b[0m\n\u001b[1;32m    654\u001b[0m         \u001b[0;31m# Send the request\u001b[0m\u001b[0;34m\u001b[0m\u001b[0;34m\u001b[0m\u001b[0;34m\u001b[0m\u001b[0m\n\u001b[0;32m--> 655\u001b[0;31m         \u001b[0mr\u001b[0m \u001b[0;34m=\u001b[0m \u001b[0madapter\u001b[0m\u001b[0;34m.\u001b[0m\u001b[0msend\u001b[0m\u001b[0;34m(\u001b[0m\u001b[0mrequest\u001b[0m\u001b[0;34m,\u001b[0m \u001b[0;34m**\u001b[0m\u001b[0mkwargs\u001b[0m\u001b[0;34m)\u001b[0m\u001b[0;34m\u001b[0m\u001b[0;34m\u001b[0m\u001b[0m\n\u001b[0m\u001b[1;32m    656\u001b[0m \u001b[0;34m\u001b[0m\u001b[0m\n\u001b[1;32m    657\u001b[0m         \u001b[0;31m# Total elapsed time of the request (approximately)\u001b[0m\u001b[0;34m\u001b[0m\u001b[0;34m\u001b[0m\u001b[0;34m\u001b[0m\u001b[0m\n",
      "\u001b[0;32m~/Documents/workspace/boxkite/boxkite_example/venv/lib/python3.8/site-packages/requests/adapters.py\u001b[0m in \u001b[0;36msend\u001b[0;34m(self, request, stream, timeout, verify, cert, proxies)\u001b[0m\n\u001b[1;32m    514\u001b[0m                 \u001b[0;32mraise\u001b[0m \u001b[0mSSLError\u001b[0m\u001b[0;34m(\u001b[0m\u001b[0me\u001b[0m\u001b[0;34m,\u001b[0m \u001b[0mrequest\u001b[0m\u001b[0;34m=\u001b[0m\u001b[0mrequest\u001b[0m\u001b[0;34m)\u001b[0m\u001b[0;34m\u001b[0m\u001b[0;34m\u001b[0m\u001b[0m\n\u001b[1;32m    515\u001b[0m \u001b[0;34m\u001b[0m\u001b[0m\n\u001b[0;32m--> 516\u001b[0;31m             \u001b[0;32mraise\u001b[0m \u001b[0mConnectionError\u001b[0m\u001b[0;34m(\u001b[0m\u001b[0me\u001b[0m\u001b[0;34m,\u001b[0m \u001b[0mrequest\u001b[0m\u001b[0;34m=\u001b[0m\u001b[0mrequest\u001b[0m\u001b[0;34m)\u001b[0m\u001b[0;34m\u001b[0m\u001b[0;34m\u001b[0m\u001b[0m\n\u001b[0m\u001b[1;32m    517\u001b[0m \u001b[0;34m\u001b[0m\u001b[0m\n\u001b[1;32m    518\u001b[0m         \u001b[0;32mexcept\u001b[0m \u001b[0mClosedPoolError\u001b[0m \u001b[0;32mas\u001b[0m \u001b[0me\u001b[0m\u001b[0;34m:\u001b[0m\u001b[0;34m\u001b[0m\u001b[0;34m\u001b[0m\u001b[0m\n",
      "\u001b[0;31mConnectionError\u001b[0m: HTTPConnectionPool(host='localhost', port=63654): Max retries exceeded with url: / (Caused by NewConnectionError('<urllib3.connection.HTTPConnection object at 0x7fa7c2935970>: Failed to establish a new connection: [Errno 61] Connection refused'))"
     ]
    }
   ],
   "source": [
    "from random import gauss\n",
    "from time import sleep\n",
    "from requests import Session\n",
    "\n",
    "data = [0.03, 0.0506801187398187, -0.002, -0.01, 0.04, 0.01, 0.08, -0.04, 0.005, -0.1]\n",
    "\n",
    "with Session() as s:\n",
    "    for i in range(60):\n",
    "        data[0] = gauss(6, 2)\n",
    "        resp = s.post(\"http://localhost:63654\", json=data)\n",
    "        resp.raise_for_status()\n",
    "        if i % 10 == 0:\n",
    "            print(f\"response[{i}]: {resp.json()}\")\n",
    "        sleep(0.1)"
   ]
  },
  {
   "cell_type": "markdown",
   "metadata": {},
   "source": [
    "Within the cluster, the port number 5000 can be referenced by each server. Below commands can be executed in a new terminal."
   ]
  },
  {
   "cell_type": "code",
   "execution_count": 50,
   "metadata": {},
   "outputs": [
    {
     "name": "stdout",
     "output_type": "stream",
     "text": [
      "root@ml-deployment-6bb5867688-hmkzj:/app# command terminated with exit code 137\n"
     ]
    }
   ],
   "source": [
    "!kubectl exec -it ml-deployment-6bb5867688-hmkzj -- bash\n",
    "\n",
    "root@ml-deployment-6bb5867688-9f4s2:/app# curl -s http://172.17.0.2:5000/metrics\n",
    "root@ml-deployment-6bb5867688-9f4s2:/app# curl -s http://172.17.0.4:5000/metrics\n",
    "root@ml-deployment-6bb5867688-9f4s2:/app# curl -s http://172.17.0.5:5000/metrics"
   ]
  },
  {
   "cell_type": "markdown",
   "metadata": {},
   "source": [
    "### Install Prometheus\n",
    "\n",
    "Install prometheus on MacOS using [precompiled binaries](https://prometheus.io/docs/prometheus/latest/installation/).\n",
    "\n",
    "Configure prometheus.yml to point to the load balancer in http://localhost:63654.\n",
    "```yaml\n",
    "scrape_configs:\n",
    "    - job_name: \"boxkite\"\n",
    "        static_configs:\n",
    "          - targets: [ \"localhost:63654\" ]\n",
    "```\n",
    "\n",
    "Start prometheus:\n",
    "```bash\n",
    "./prometheus\n",
    "````"
   ]
  },
  {
   "cell_type": "markdown",
   "metadata": {},
   "source": [
    "### Install Grafana\n",
    "\n",
    "Install grafana on MacOS using [standalone binaries](https://grafana.com/docs/grafana/latest/installation/mac/).\n",
    "\n",
    "Start grafana:\n",
    "```bash\n",
    "./bin/grafana-server web\n",
    "```\n",
    "\n",
    "Configure the prometheus datasource and import model.json to create the dashboard. "
   ]
  },
  {
   "cell_type": "raw",
   "metadata": {},
   "source": [
    "---\n",
    "**NOTE**\n",
    "\n",
    "The potential issue with the Boxkite HA mode is that the online logging of histogram cannot be aggregated across all the servers behind the load balancer to reflect the total traffic.\n",
    "\n",
    "---"
   ]
  },
  {
   "cell_type": "markdown",
   "metadata": {},
   "source": [
    "Shutdown the servers and remove the pods."
   ]
  },
  {
   "cell_type": "code",
   "execution_count": 59,
   "metadata": {},
   "outputs": [
    {
     "name": "stdout",
     "output_type": "stream",
     "text": [
      "deployment.apps \"ml-deployment\" deleted\n",
      "service \"ml-deployment\" deleted\n"
     ]
    }
   ],
   "source": [
    "!kubectl delete deployment ml-deployment\n",
    "!kubectl delete svc ml-deployment"
   ]
  },
  {
   "cell_type": "code",
   "execution_count": 60,
   "metadata": {
    "pycharm": {
     "name": "#%%\n"
    }
   },
   "outputs": [
    {
     "name": "stdout",
     "output_type": "stream",
     "text": [
      "✋  Stopping node \"minikube\"  ...\n",
      "🛑  Powering off \"minikube\" via SSH ...\n",
      "🛑  1 nodes stopped.\n"
     ]
    }
   ],
   "source": [
    "!minikube stop"
   ]
  }
 ],
 "metadata": {
  "kernelspec": {
   "display_name": "Python 3 (ipykernel)",
   "language": "python",
   "name": "python3"
  },
  "language_info": {
   "codemirror_mode": {
    "name": "ipython",
    "version": 3
   },
   "file_extension": ".py",
   "mimetype": "text/x-python",
   "name": "python",
   "nbconvert_exporter": "python",
   "pygments_lexer": "ipython3",
   "version": "3.8.5"
  }
 },
 "nbformat": 4,
 "nbformat_minor": 1
}
